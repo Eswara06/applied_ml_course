{
 "cells": [
  {
   "cell_type": "code",
   "execution_count": 1,
   "id": "d8b7e48f",
   "metadata": {},
   "outputs": [],
   "source": [
    "import pandas as pd\n",
    "\n",
    "import numpy as np\n",
    "from numpy import dot\n",
    "from numpy.linalg import norm\n",
    "\n",
    "from sentence_transformers import SentenceTransformer\n",
    "model = SentenceTransformer('sentence-transformers/paraphrase-albert-small-v2')"
   ]
  },
  {
   "cell_type": "code",
   "execution_count": 118,
   "id": "52499c29",
   "metadata": {},
   "outputs": [],
   "source": [
    "import json"
   ]
  },
  {
   "cell_type": "code",
   "execution_count": 133,
   "id": "a13063a9",
   "metadata": {},
   "outputs": [],
   "source": [
    "metadata = pd.read_csv('movie.metadata.tsv', delimiter = '\\t', header=None)"
   ]
  },
  {
   "cell_type": "code",
   "execution_count": 141,
   "id": "c1921f42",
   "metadata": {},
   "outputs": [],
   "source": [
    "def extract_genres(genres):\n",
    "    thing = json.loads(genres)\n",
    "    clean_thing = ' '.join(thing.values())\n",
    "    return clean_thing"
   ]
  },
  {
   "cell_type": "code",
   "execution_count": 142,
   "id": "fb83f8b0",
   "metadata": {},
   "outputs": [],
   "source": [
    "metadata['clean_genres'] = metadata[8].apply(lambda x: extract_genres(x))"
   ]
  },
  {
   "cell_type": "code",
   "execution_count": 143,
   "id": "4174d386",
   "metadata": {},
   "outputs": [
    {
     "data": {
      "text/html": [
       "<div>\n",
       "<style scoped>\n",
       "    .dataframe tbody tr th:only-of-type {\n",
       "        vertical-align: middle;\n",
       "    }\n",
       "\n",
       "    .dataframe tbody tr th {\n",
       "        vertical-align: top;\n",
       "    }\n",
       "\n",
       "    .dataframe thead th {\n",
       "        text-align: right;\n",
       "    }\n",
       "</style>\n",
       "<table border=\"1\" class=\"dataframe\">\n",
       "  <thead>\n",
       "    <tr style=\"text-align: right;\">\n",
       "      <th></th>\n",
       "      <th>0</th>\n",
       "      <th>1</th>\n",
       "      <th>2</th>\n",
       "      <th>3</th>\n",
       "      <th>4</th>\n",
       "      <th>5</th>\n",
       "      <th>6</th>\n",
       "      <th>7</th>\n",
       "      <th>8</th>\n",
       "      <th>clean_genres</th>\n",
       "    </tr>\n",
       "  </thead>\n",
       "  <tbody>\n",
       "    <tr>\n",
       "      <th>0</th>\n",
       "      <td>975900</td>\n",
       "      <td>/m/03vyhn</td>\n",
       "      <td>Ghosts of Mars</td>\n",
       "      <td>2001-08-24</td>\n",
       "      <td>14010832.0</td>\n",
       "      <td>98.0</td>\n",
       "      <td>{\"/m/02h40lc\": \"English Language\"}</td>\n",
       "      <td>{\"/m/09c7w0\": \"United States of America\"}</td>\n",
       "      <td>{\"/m/01jfsb\": \"Thriller\", \"/m/06n90\": \"Science Fiction\", \"/m/03npn\": \"Horror\", \"/m/03k9fj\": \"Adventure\", \"/m/0fdjb\": \"Supernatural\", \"/m/02kdv5l\": \"Action\", \"/m/09zvmj\": \"Space western\"}</td>\n",
       "      <td>Thriller Science Fiction Horror Adventure Supernatural Action Space western</td>\n",
       "    </tr>\n",
       "    <tr>\n",
       "      <th>1</th>\n",
       "      <td>3196793</td>\n",
       "      <td>/m/08yl5d</td>\n",
       "      <td>Getting Away with Murder: The JonBenét Ramsey Mystery</td>\n",
       "      <td>2000-02-16</td>\n",
       "      <td>NaN</td>\n",
       "      <td>95.0</td>\n",
       "      <td>{\"/m/02h40lc\": \"English Language\"}</td>\n",
       "      <td>{\"/m/09c7w0\": \"United States of America\"}</td>\n",
       "      <td>{\"/m/02n4kr\": \"Mystery\", \"/m/03bxz7\": \"Biographical film\", \"/m/07s9rl0\": \"Drama\", \"/m/0hj3n01\": \"Crime Drama\"}</td>\n",
       "      <td>Mystery Biographical film Drama Crime Drama</td>\n",
       "    </tr>\n",
       "    <tr>\n",
       "      <th>2</th>\n",
       "      <td>28463795</td>\n",
       "      <td>/m/0crgdbh</td>\n",
       "      <td>Brun bitter</td>\n",
       "      <td>1988</td>\n",
       "      <td>NaN</td>\n",
       "      <td>83.0</td>\n",
       "      <td>{\"/m/05f_3\": \"Norwegian Language\"}</td>\n",
       "      <td>{\"/m/05b4w\": \"Norway\"}</td>\n",
       "      <td>{\"/m/0lsxr\": \"Crime Fiction\", \"/m/07s9rl0\": \"Drama\"}</td>\n",
       "      <td>Crime Fiction Drama</td>\n",
       "    </tr>\n",
       "    <tr>\n",
       "      <th>3</th>\n",
       "      <td>9363483</td>\n",
       "      <td>/m/0285_cd</td>\n",
       "      <td>White Of The Eye</td>\n",
       "      <td>1987</td>\n",
       "      <td>NaN</td>\n",
       "      <td>110.0</td>\n",
       "      <td>{\"/m/02h40lc\": \"English Language\"}</td>\n",
       "      <td>{\"/m/07ssc\": \"United Kingdom\"}</td>\n",
       "      <td>{\"/m/01jfsb\": \"Thriller\", \"/m/0glj9q\": \"Erotic thriller\", \"/m/09blyk\": \"Psychological thriller\"}</td>\n",
       "      <td>Thriller Erotic thriller Psychological thriller</td>\n",
       "    </tr>\n",
       "    <tr>\n",
       "      <th>4</th>\n",
       "      <td>261236</td>\n",
       "      <td>/m/01mrr1</td>\n",
       "      <td>A Woman in Flames</td>\n",
       "      <td>1983</td>\n",
       "      <td>NaN</td>\n",
       "      <td>106.0</td>\n",
       "      <td>{\"/m/04306rv\": \"German Language\"}</td>\n",
       "      <td>{\"/m/0345h\": \"Germany\"}</td>\n",
       "      <td>{\"/m/07s9rl0\": \"Drama\"}</td>\n",
       "      <td>Drama</td>\n",
       "    </tr>\n",
       "  </tbody>\n",
       "</table>\n",
       "</div>"
      ],
      "text/plain": [
       "          0           1  \\\n",
       "0    975900   /m/03vyhn   \n",
       "1   3196793   /m/08yl5d   \n",
       "2  28463795  /m/0crgdbh   \n",
       "3   9363483  /m/0285_cd   \n",
       "4    261236   /m/01mrr1   \n",
       "\n",
       "                                                       2           3  \\\n",
       "0                                         Ghosts of Mars  2001-08-24   \n",
       "1  Getting Away with Murder: The JonBenét Ramsey Mystery  2000-02-16   \n",
       "2                                            Brun bitter        1988   \n",
       "3                                       White Of The Eye        1987   \n",
       "4                                      A Woman in Flames        1983   \n",
       "\n",
       "            4      5                                   6  \\\n",
       "0  14010832.0   98.0  {\"/m/02h40lc\": \"English Language\"}   \n",
       "1         NaN   95.0  {\"/m/02h40lc\": \"English Language\"}   \n",
       "2         NaN   83.0  {\"/m/05f_3\": \"Norwegian Language\"}   \n",
       "3         NaN  110.0  {\"/m/02h40lc\": \"English Language\"}   \n",
       "4         NaN  106.0   {\"/m/04306rv\": \"German Language\"}   \n",
       "\n",
       "                                           7  \\\n",
       "0  {\"/m/09c7w0\": \"United States of America\"}   \n",
       "1  {\"/m/09c7w0\": \"United States of America\"}   \n",
       "2                     {\"/m/05b4w\": \"Norway\"}   \n",
       "3             {\"/m/07ssc\": \"United Kingdom\"}   \n",
       "4                    {\"/m/0345h\": \"Germany\"}   \n",
       "\n",
       "                                                                                                                                                                                            8  \\\n",
       "0  {\"/m/01jfsb\": \"Thriller\", \"/m/06n90\": \"Science Fiction\", \"/m/03npn\": \"Horror\", \"/m/03k9fj\": \"Adventure\", \"/m/0fdjb\": \"Supernatural\", \"/m/02kdv5l\": \"Action\", \"/m/09zvmj\": \"Space western\"}   \n",
       "1                                                                              {\"/m/02n4kr\": \"Mystery\", \"/m/03bxz7\": \"Biographical film\", \"/m/07s9rl0\": \"Drama\", \"/m/0hj3n01\": \"Crime Drama\"}   \n",
       "2                                                                                                                                        {\"/m/0lsxr\": \"Crime Fiction\", \"/m/07s9rl0\": \"Drama\"}   \n",
       "3                                                                                            {\"/m/01jfsb\": \"Thriller\", \"/m/0glj9q\": \"Erotic thriller\", \"/m/09blyk\": \"Psychological thriller\"}   \n",
       "4                                                                                                                                                                     {\"/m/07s9rl0\": \"Drama\"}   \n",
       "\n",
       "                                                                  clean_genres  \n",
       "0  Thriller Science Fiction Horror Adventure Supernatural Action Space western  \n",
       "1                                  Mystery Biographical film Drama Crime Drama  \n",
       "2                                                          Crime Fiction Drama  \n",
       "3                              Thriller Erotic thriller Psychological thriller  \n",
       "4                                                                        Drama  "
      ]
     },
     "execution_count": 143,
     "metadata": {},
     "output_type": "execute_result"
    }
   ],
   "source": [
    "metadata.head()"
   ]
  },
  {
   "cell_type": "code",
   "execution_count": 144,
   "id": "acce8b34",
   "metadata": {},
   "outputs": [],
   "source": [
    "summaries = pd.read_csv('plot_summaries.txt', delimiter = '\\t', header=None)"
   ]
  },
  {
   "cell_type": "code",
   "execution_count": 145,
   "id": "ab841d4b",
   "metadata": {},
   "outputs": [],
   "source": [
    "full_df = summaries.merge(metadata, left_on = 0, right_on = 0)"
   ]
  },
  {
   "cell_type": "code",
   "execution_count": 147,
   "id": "19e49919",
   "metadata": {},
   "outputs": [],
   "source": [
    "df = full_df[[2, '1_x', 'clean_genres']].rename(columns={2: 'Tile', '1_x': 'Summary'})"
   ]
  },
  {
   "cell_type": "code",
   "execution_count": 148,
   "id": "15468c29",
   "metadata": {},
   "outputs": [
    {
     "data": {
      "text/html": [
       "<div>\n",
       "<style scoped>\n",
       "    .dataframe tbody tr th:only-of-type {\n",
       "        vertical-align: middle;\n",
       "    }\n",
       "\n",
       "    .dataframe tbody tr th {\n",
       "        vertical-align: top;\n",
       "    }\n",
       "\n",
       "    .dataframe thead th {\n",
       "        text-align: right;\n",
       "    }\n",
       "</style>\n",
       "<table border=\"1\" class=\"dataframe\">\n",
       "  <thead>\n",
       "    <tr style=\"text-align: right;\">\n",
       "      <th></th>\n",
       "      <th>Tile</th>\n",
       "      <th>Summary</th>\n",
       "      <th>clean_genres</th>\n",
       "    </tr>\n",
       "  </thead>\n",
       "  <tbody>\n",
       "    <tr>\n",
       "      <th>0</th>\n",
       "      <td>Taxi Blues</td>\n",
       "      <td>Shlykov, a hard-working taxi driver and Lyosha, a saxophonist, develop a bizarre love-hate relationship, and despite their prejudices, realize they aren't so different after all.</td>\n",
       "      <td>Drama World cinema</td>\n",
       "    </tr>\n",
       "    <tr>\n",
       "      <th>1</th>\n",
       "      <td>The Hunger Games</td>\n",
       "      <td>The nation of Panem consists of a wealthy Capitol and twelve poorer districts. As punishment for a past rebellion, each district must provide a boy and girl  between the ages of 12 and 18 selected by lottery  for the annual Hunger Games. The tributes must fight to the death in an arena; the sole...</td>\n",
       "      <td>Action/Adventure Science Fiction Action Drama</td>\n",
       "    </tr>\n",
       "    <tr>\n",
       "      <th>2</th>\n",
       "      <td>Narasimham</td>\n",
       "      <td>Poovalli Induchoodan  is sentenced for six years prison life for murdering his classmate. Induchoodan, the only son of Justice Maranchery Karunakara Menon  was framed in the case by Manapally Madhavan Nambiar  and his crony DYSP Sankaranarayanan  to take revenge on idealist judge Menon who had e...</td>\n",
       "      <td>Musical Action Drama Bollywood</td>\n",
       "    </tr>\n",
       "    <tr>\n",
       "      <th>3</th>\n",
       "      <td>The Lemon Drop Kid</td>\n",
       "      <td>The Lemon Drop Kid , a New York City swindler, is illegally touting horses at a Florida racetrack. After several successful hustles, the Kid comes across a beautiful, but gullible, woman intending to bet a lot of money. The Kid convinces her to switch her bet, employing a prefabricated con. Unfo...</td>\n",
       "      <td>Screwball comedy Comedy</td>\n",
       "    </tr>\n",
       "    <tr>\n",
       "      <th>4</th>\n",
       "      <td>A Cry in the Dark</td>\n",
       "      <td>Seventh-day Adventist Church pastor Michael Chamberlain, his wife Lindy, their two sons, and their nine-week-old daughter Azaria are on a camping holiday in the Outback. With the baby sleeping in their tent, the family is enjoying a barbecue with their fellow campers when a cry is heard. Lindy r...</td>\n",
       "      <td>Crime Fiction Drama Docudrama World cinema Courtroom Drama</td>\n",
       "    </tr>\n",
       "    <tr>\n",
       "      <th>...</th>\n",
       "      <td>...</td>\n",
       "      <td>...</td>\n",
       "      <td>...</td>\n",
       "    </tr>\n",
       "    <tr>\n",
       "      <th>42199</th>\n",
       "      <td>Oomakkuyil Padumbol</td>\n",
       "      <td>The story is about Reema , a young Muslim schoolgirl in Malabar, who loved Malayalam and poetry. The film is about her mental trauma once she was moved to an English medium school by her parents, for their social status.</td>\n",
       "      <td>Children's</td>\n",
       "    </tr>\n",
       "    <tr>\n",
       "      <th>42200</th>\n",
       "      <td>The Last Command</td>\n",
       "      <td>In 1928 Hollywood, director Leo Andreyev  looks through photographs for actors for his next movie. When he comes to the picture of an aged Sergius Alexander , he pauses, then tells his assistant  to cast the man. Sergius shows up at the Eureka Studio with a horde of other extras and is issued a ...</td>\n",
       "      <td>Silent film Indie Black-and-white Period piece Drama War film Political drama</td>\n",
       "    </tr>\n",
       "    <tr>\n",
       "      <th>42201</th>\n",
       "      <td>Randy Parsons: American Luthier</td>\n",
       "      <td>American Luthier focuses on Randy Parsons’ transformation from aspiring musician to guitar-maker. The guitar had been Parsons’ identity since he was a child, but after studying classical and jazz guitar in college, he realized that he would never make a living as a musician. So he gave it up — h...</td>\n",
       "      <td>Short Film Music Biographical film Documentary</td>\n",
       "    </tr>\n",
       "    <tr>\n",
       "      <th>42202</th>\n",
       "      <td>Kabuliwala</td>\n",
       "      <td>Abdur Rehman Khan , a middle-aged dry fruit seller from Afghanistan, comes to Calcutta to hawk his merchandise and befriends a small Bengali girl called Mini  who reminds him of his own daughter Amina back in Afghanistan. He puts up at a boarding house along with his countrymen. Since he is shor...</td>\n",
       "      <td>Drama</td>\n",
       "    </tr>\n",
       "    <tr>\n",
       "      <th>42203</th>\n",
       "      <td>Dad's Army</td>\n",
       "      <td>1940 - Operation Dynamo has just taken place. From the newly conquered French coastline, a Wehrmacht colonel looks out over the English Channel with powerful binoculars. Surveying the white cliffs of Dover, he spies Godfrey emerging from a lavatory. Godfrey joins the rest of his platoon, who are...</td>\n",
       "      <td>Comedy</td>\n",
       "    </tr>\n",
       "  </tbody>\n",
       "</table>\n",
       "<p>42204 rows × 3 columns</p>\n",
       "</div>"
      ],
      "text/plain": [
       "                                  Tile  \\\n",
       "0                           Taxi Blues   \n",
       "1                     The Hunger Games   \n",
       "2                           Narasimham   \n",
       "3                   The Lemon Drop Kid   \n",
       "4                    A Cry in the Dark   \n",
       "...                                ...   \n",
       "42199              Oomakkuyil Padumbol   \n",
       "42200                 The Last Command   \n",
       "42201  Randy Parsons: American Luthier   \n",
       "42202                       Kabuliwala   \n",
       "42203                       Dad's Army   \n",
       "\n",
       "                                                                                                                                                                                                                                                                                                           Summary  \\\n",
       "0                                                                                                                               Shlykov, a hard-working taxi driver and Lyosha, a saxophonist, develop a bizarre love-hate relationship, and despite their prejudices, realize they aren't so different after all.   \n",
       "1      The nation of Panem consists of a wealthy Capitol and twelve poorer districts. As punishment for a past rebellion, each district must provide a boy and girl  between the ages of 12 and 18 selected by lottery  for the annual Hunger Games. The tributes must fight to the death in an arena; the sole...   \n",
       "2      Poovalli Induchoodan  is sentenced for six years prison life for murdering his classmate. Induchoodan, the only son of Justice Maranchery Karunakara Menon  was framed in the case by Manapally Madhavan Nambiar  and his crony DYSP Sankaranarayanan  to take revenge on idealist judge Menon who had e...   \n",
       "3      The Lemon Drop Kid , a New York City swindler, is illegally touting horses at a Florida racetrack. After several successful hustles, the Kid comes across a beautiful, but gullible, woman intending to bet a lot of money. The Kid convinces her to switch her bet, employing a prefabricated con. Unfo...   \n",
       "4      Seventh-day Adventist Church pastor Michael Chamberlain, his wife Lindy, their two sons, and their nine-week-old daughter Azaria are on a camping holiday in the Outback. With the baby sleeping in their tent, the family is enjoying a barbecue with their fellow campers when a cry is heard. Lindy r...   \n",
       "...                                                                                                                                                                                                                                                                                                            ...   \n",
       "42199                                                                                 The story is about Reema , a young Muslim schoolgirl in Malabar, who loved Malayalam and poetry. The film is about her mental trauma once she was moved to an English medium school by her parents, for their social status.   \n",
       "42200  In 1928 Hollywood, director Leo Andreyev  looks through photographs for actors for his next movie. When he comes to the picture of an aged Sergius Alexander , he pauses, then tells his assistant  to cast the man. Sergius shows up at the Eureka Studio with a horde of other extras and is issued a ...   \n",
       "42201  American Luthier focuses on Randy Parsons’ transformation from aspiring musician to guitar-maker. The guitar had been Parsons’ identity since he was a child, but after studying classical and jazz guitar in college, he realized that he would never make a living as a musician. So he gave it up — h...   \n",
       "42202  Abdur Rehman Khan , a middle-aged dry fruit seller from Afghanistan, comes to Calcutta to hawk his merchandise and befriends a small Bengali girl called Mini  who reminds him of his own daughter Amina back in Afghanistan. He puts up at a boarding house along with his countrymen. Since he is shor...   \n",
       "42203  1940 - Operation Dynamo has just taken place. From the newly conquered French coastline, a Wehrmacht colonel looks out over the English Channel with powerful binoculars. Surveying the white cliffs of Dover, he spies Godfrey emerging from a lavatory. Godfrey joins the rest of his platoon, who are...   \n",
       "\n",
       "                                                                        clean_genres  \n",
       "0                                                                 Drama World cinema  \n",
       "1                                      Action/Adventure Science Fiction Action Drama  \n",
       "2                                                     Musical Action Drama Bollywood  \n",
       "3                                                            Screwball comedy Comedy  \n",
       "4                         Crime Fiction Drama Docudrama World cinema Courtroom Drama  \n",
       "...                                                                              ...  \n",
       "42199                                                                     Children's  \n",
       "42200  Silent film Indie Black-and-white Period piece Drama War film Political drama  \n",
       "42201                                 Short Film Music Biographical film Documentary  \n",
       "42202                                                                          Drama  \n",
       "42203                                                                         Comedy  \n",
       "\n",
       "[42204 rows x 3 columns]"
      ]
     },
     "execution_count": 148,
     "metadata": {},
     "output_type": "execute_result"
    }
   ],
   "source": [
    "df"
   ]
  },
  {
   "cell_type": "code",
   "execution_count": 28,
   "id": "a627ad21",
   "metadata": {},
   "outputs": [],
   "source": [
    "sentences = [\"Hi, I'm a cat and I love to read and snuggle.\",\n",
    "             \"Yo!, I'm a monster truck and I love to be loud and explode.\"]\n",
    "embeddings = model.encode(sentences)"
   ]
  },
  {
   "cell_type": "code",
   "execution_count": 29,
   "id": "57f84ede",
   "metadata": {},
   "outputs": [],
   "source": [
    "def cosine_similarity(list_1, list_2):\n",
    "  cos_sim = dot(list_1, list_2) / (norm(list_1) * norm(list_2))\n",
    "  return cos_sim"
   ]
  },
  {
   "cell_type": "code",
   "execution_count": 30,
   "id": "80c4ead5",
   "metadata": {},
   "outputs": [
    {
     "data": {
      "text/plain": [
       "0.3249877"
      ]
     },
     "execution_count": 30,
     "metadata": {},
     "output_type": "execute_result"
    }
   ],
   "source": [
    "cosine_similarity(embeddings[0], embeddings[1])"
   ]
  },
  {
   "cell_type": "code",
   "execution_count": 154,
   "id": "2a03dede",
   "metadata": {},
   "outputs": [],
   "source": [
    "#Want a new column 'Short_Summary', which is the first 280 char of Summary.\n",
    "def shorten(row):\n",
    "    return row['clean_genres'] + ' ' + row['Summary'][:280]\n",
    "\n",
    "df['Short_Summary'] = df.apply(shorten, axis=1)"
   ]
  },
  {
   "cell_type": "code",
   "execution_count": 155,
   "id": "5b6d3ab6",
   "metadata": {},
   "outputs": [],
   "source": [
    "small_df = df.sample(n=1000, axis=0).reset_index()"
   ]
  },
  {
   "cell_type": "code",
   "execution_count": 156,
   "id": "297adabe",
   "metadata": {},
   "outputs": [],
   "source": [
    "small_df['Embedding'] = small_df['Short_Summary'].apply(lambda x: model.encode(x))"
   ]
  },
  {
   "cell_type": "code",
   "execution_count": 162,
   "id": "041e86d0",
   "metadata": {},
   "outputs": [
    {
     "name": "stdout",
     "output_type": "stream",
     "text": [
      "     index              Tile  \\\n",
      "134  19711  Lady in the Dark   \n",
      "\n",
      "                                                                                                                                                                                                                                                                                                         Summary  \\\n",
      "134  Life has become a series of headaches and bad dreams for Liza Elliott, the successful editor-in-chief of Allure fashion magazine. She is being romanced by publisher Kendall Nesbitt, but he is married and slow in obtaining a divorce. And her second-in-command, Charley Johnson, is a cut-up who dri...   \n",
      "\n",
      "                   clean_genres  \\\n",
      "134  Musical Drama Romance Film   \n",
      "\n",
      "                                                                                                                                                                                                                                                                                                   Short_Summary  \\\n",
      "134  Musical Drama Romance Film Life has become a series of headaches and bad dreams for Liza Elliott, the successful editor-in-chief of Allure fashion magazine. She is being romanced by publisher Kendall Nesbitt, but he is married and slow in obtaining a divorce. And her second-in-command, Charley J...   \n",
      "\n",
      "                                                                                                                                                                                                                                                                                                       Embedding  \n",
      "134  [0.033826202, 0.080923736, -0.058037113, -0.13054326, -0.23881719, 0.17166203, -0.18454961, 0.033632502, 0.004946326, -0.3698424, 0.053728156, -0.1281662, 0.2459771, 0.5084584, 0.089396134, 0.13637266, 0.2639317, -0.12934393, -0.6875849, -0.03423578, -0.38240388, 0.28346318, -0.28351018, 0.25984...  \n"
     ]
    }
   ],
   "source": [
    "my_favorite_movie = small_df.sample(n=1, axis=0)\n",
    "my_favorite_embedding = np.array(my_favorite_movie['Embedding'])[0]\n",
    "print(my_favorite_movie)"
   ]
  },
  {
   "cell_type": "code",
   "execution_count": 163,
   "id": "d2aba4de",
   "metadata": {},
   "outputs": [
    {
     "name": "stdout",
     "output_type": "stream",
     "text": [
      "index                                                                                                                                                                                                                                                                                                                  25482\n",
      "Tile                                                                                                                                                                                                                                                                                                                 Exposed\n",
      "Summary          A college girl from Wisconsin whose professor has romantic designs on her, Elizabeth Carlson packs up and moves to New York City, finding a job as a waitress while she attempts to launch a career as a fashion model. As her career takes off, she meets Daniel Jelline, a violinist, who aggressively...\n",
      "clean_genres                                                                                                                                                                                                                                                                                                     Music Drama\n",
      "Short_Summary           Music Drama A college girl from Wisconsin whose professor has romantic designs on her, Elizabeth Carlson packs up and moves to New York City, finding a job as a waitress while she attempts to launch a career as a fashion model. As her career takes off, she meets Daniel Jelline, a violinist, \n",
      "Embedding        [0.15554461, -0.19902164, -0.53178245, -0.2827331, 0.6997949, 0.14766161, 0.2785937, -0.25026542, 0.39653972, -0.49109828, 0.14152437, 0.09123054, -0.28497186, 0.23112969, 0.14248481, 0.3886377, -0.30422887, 0.49733612, -0.77181864, 0.19823134, -1.1090358, -0.023718856, -0.11731986, 0.7257153, 0...\n",
      "Name: 210, dtype: object\n"
     ]
    }
   ],
   "source": [
    "wr = -2\n",
    "\n",
    "for i in range(len(small_df)):\n",
    "    emb = small_df.iloc[i]['Embedding']\n",
    "    sim = cosine_similarity(emb, my_favorite_embedding)\n",
    "    if sim > wr and sim < .99:\n",
    "        wr = sim\n",
    "        rec = small_df.iloc[i]\n",
    "print(rec)"
   ]
  },
  {
   "cell_type": "code",
   "execution_count": 107,
   "id": "9d1d0582",
   "metadata": {},
   "outputs": [
    {
     "data": {
      "text/plain": [
       "696    The film opens up on Laura Black , a young and ambitious intern from Virginia who is preparing to say farewell to her family after having accepted a job at Kensitron Electronics International  in Silicon Valley, California. After receiving her well-wishes, Laura moves out to Cali\n",
       "Name: Short_Summary, dtype: object"
      ]
     },
     "execution_count": 107,
     "metadata": {},
     "output_type": "execute_result"
    }
   ],
   "source": []
  },
  {
   "cell_type": "code",
   "execution_count": 102,
   "id": "c15dd660",
   "metadata": {},
   "outputs": [],
   "source": [
    "pd.options.display.max_colwidth = 300"
   ]
  },
  {
   "cell_type": "code",
   "execution_count": 108,
   "id": "9809ce13",
   "metadata": {},
   "outputs": [
    {
     "data": {
      "text/plain": [
       "'The film centers on Rob Gordon , a self-confessed music geek whose flair for understanding women is over par for the course. After getting dumped by his current girlfriend, Laura , he decides to look up some of his old flames in an attempt to figure out what he keeps doing wrong '"
      ]
     },
     "execution_count": 108,
     "metadata": {},
     "output_type": "execute_result"
    }
   ],
   "source": [
    "rec['Short_Summary']"
   ]
  },
  {
   "cell_type": "markdown",
   "id": "26fd44a8",
   "metadata": {},
   "source": [
    "## Notes on shortcomings of this approach\n",
    "\n",
    "1. Only sees the favorite or last movie.\n",
    "2. Not really a notion of important cinematic elements. (Laura or location).\n",
    "3. I didn't clean up the text in any way really. (Stemming, remove common words, remove names).\n",
    "4. Echo chamber sort of thing - only reaffirms what I like, won't help me discover new interests. Low diversity of recommendations.\n",
    "5. Did not incorporate actor/director/producer/studio/year similarity.\n",
    "6. Did not incorporate movie quality."
   ]
  },
  {
   "cell_type": "code",
   "execution_count": 165,
   "id": "173e8ebb",
   "metadata": {},
   "outputs": [
    {
     "name": "stdout",
     "output_type": "stream",
     "text": [
      "0.84663594\n",
      "-0.007824633\n",
      "-0.020252414\n"
     ]
    }
   ],
   "source": [
    "sentences = [\"I'm a cat who loves to read and snuggle\",\n",
    "             \"I'm a cat who hates to read and snuggle\",\n",
    "             \"Four score and seven years ago\"]\n",
    "\n",
    "model = SentenceTransformer('sentence-transformers/paraphrase-albert-small-v2')\n",
    "embeddings = model.encode(sentences)\n",
    "print(cosine_similarity(embeddings[0], embeddings[1]))\n",
    "print(cosine_similarity(embeddings[0], embeddings[2]))\n",
    "print(cosine_similarity(embeddings[1], embeddings[2]))"
   ]
  },
  {
   "cell_type": "code",
   "execution_count": null,
   "id": "6215f989",
   "metadata": {},
   "outputs": [],
   "source": []
  }
 ],
 "metadata": {
  "kernelspec": {
   "display_name": "Python 3 (ipykernel)",
   "language": "python",
   "name": "python3"
  },
  "language_info": {
   "codemirror_mode": {
    "name": "ipython",
    "version": 3
   },
   "file_extension": ".py",
   "mimetype": "text/x-python",
   "name": "python",
   "nbconvert_exporter": "python",
   "pygments_lexer": "ipython3",
   "version": "3.10.9"
  }
 },
 "nbformat": 4,
 "nbformat_minor": 5
}
