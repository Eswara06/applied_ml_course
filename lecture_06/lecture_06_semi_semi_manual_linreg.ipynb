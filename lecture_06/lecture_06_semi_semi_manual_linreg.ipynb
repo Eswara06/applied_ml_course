{
 "cells": [
  {
   "cell_type": "code",
   "execution_count": 1,
   "id": "73582e0e",
   "metadata": {},
   "outputs": [],
   "source": [
    "import torch\n",
    "import torch.nn as nn"
   ]
  },
  {
   "cell_type": "code",
   "execution_count": 2,
   "id": "a9e14c56",
   "metadata": {},
   "outputs": [],
   "source": [
    "X = torch.tensor([1, 2, 3, 4], dtype=torch.float32)\n",
    "y = torch.tensor([2, 4, 6, 8], dtype=torch.float32)"
   ]
  },
  {
   "cell_type": "code",
   "execution_count": 3,
   "id": "b5a16491",
   "metadata": {},
   "outputs": [],
   "source": [
    "w = torch.tensor(0.0, dtype=torch.float32, requires_grad=True)"
   ]
  },
  {
   "cell_type": "code",
   "execution_count": 4,
   "id": "03df2343",
   "metadata": {},
   "outputs": [],
   "source": [
    "def forward(x):\n",
    "    return w * x"
   ]
  },
  {
   "cell_type": "code",
   "execution_count": 5,
   "id": "6673b026",
   "metadata": {},
   "outputs": [],
   "source": [
    "learning_rate = 0.01\n",
    "n_iters = 100"
   ]
  },
  {
   "cell_type": "code",
   "execution_count": 6,
   "id": "249886bd",
   "metadata": {},
   "outputs": [],
   "source": [
    "loss = nn.MSELoss()\n",
    "optimizer = torch.optim.SGD([w], lr=learning_rate)"
   ]
  },
  {
   "cell_type": "code",
   "execution_count": 7,
   "id": "123c13b3",
   "metadata": {},
   "outputs": [
    {
     "name": "stdout",
     "output_type": "stream",
     "text": [
      "f(5)=1.500 and w=0.29999998\n",
      "f(5)=2.775 and w=0.55499995\n",
      "f(5)=3.859 and w=0.77174991\n",
      "f(5)=4.780 and w=0.95598745\n",
      "f(5)=5.563 and w=1.11258936\n",
      "f(5)=6.229 and w=1.24570096\n",
      "f(5)=6.794 and w=1.35884583\n",
      "f(5)=7.275 and w=1.45501900\n",
      "f(5)=7.684 and w=1.53676617\n",
      "f(5)=8.031 and w=1.60625124\n",
      "f(5)=8.327 and w=1.66531360\n",
      "f(5)=8.578 and w=1.71551657\n",
      "f(5)=8.791 and w=1.75818908\n",
      "f(5)=8.972 and w=1.79446077\n",
      "f(5)=9.126 and w=1.82529163\n",
      "f(5)=9.257 and w=1.85149789\n",
      "f(5)=9.369 and w=1.87377322\n",
      "f(5)=9.464 and w=1.89270723\n",
      "f(5)=9.544 and w=1.90880120\n",
      "f(5)=9.612 and w=1.92248106\n",
      "f(5)=9.671 and w=1.93410885\n",
      "f(5)=9.720 and w=1.94399250\n",
      "f(5)=9.762 and w=1.95239365\n",
      "f(5)=9.798 and w=1.95953465\n",
      "f(5)=9.828 and w=1.96560442\n",
      "f(5)=9.854 and w=1.97076380\n",
      "f(5)=9.876 and w=1.97514927\n",
      "f(5)=9.894 and w=1.97887683\n",
      "f(5)=9.910 and w=1.98204529\n",
      "f(5)=9.924 and w=1.98473847\n",
      "f(5)=9.935 and w=1.98702765\n",
      "f(5)=9.945 and w=1.98897350\n",
      "f(5)=9.953 and w=1.99062753\n",
      "f(5)=9.960 and w=1.99203336\n",
      "f(5)=9.966 and w=1.99322832\n",
      "f(5)=9.971 and w=1.99424410\n",
      "f(5)=9.976 and w=1.99510753\n",
      "f(5)=9.979 and w=1.99584138\n",
      "f(5)=9.982 and w=1.99646521\n",
      "f(5)=9.985 and w=1.99699545\n",
      "f(5)=9.987 and w=1.99744618\n",
      "f(5)=9.989 and w=1.99782920\n",
      "f(5)=9.991 and w=1.99815488\n",
      "f(5)=9.992 and w=1.99843168\n",
      "f(5)=9.993 and w=1.99866688\n",
      "f(5)=9.994 and w=1.99886680\n",
      "f(5)=9.995 and w=1.99903679\n",
      "f(5)=9.996 and w=1.99918127\n",
      "f(5)=9.997 and w=1.99930406\n",
      "f(5)=9.997 and w=1.99940848\n",
      "f(5)=9.997 and w=1.99949718\n",
      "f(5)=9.998 and w=1.99957263\n",
      "f(5)=9.998 and w=1.99963677\n",
      "f(5)=9.998 and w=1.99969125\n",
      "f(5)=9.999 and w=1.99973750\n",
      "f(5)=9.999 and w=1.99977684\n",
      "f(5)=9.999 and w=1.99981034\n",
      "f(5)=9.999 and w=1.99983883\n",
      "f(5)=9.999 and w=1.99986303\n",
      "f(5)=9.999 and w=1.99988353\n",
      "f(5)=10.000 and w=1.99990106\n",
      "f(5)=10.000 and w=1.99991584\n",
      "f(5)=10.000 and w=1.99992847\n",
      "f(5)=10.000 and w=1.99993920\n",
      "f(5)=10.000 and w=1.99994826\n",
      "f(5)=10.000 and w=1.99995601\n",
      "f(5)=10.000 and w=1.99996257\n",
      "f(5)=10.000 and w=1.99996817\n",
      "f(5)=10.000 and w=1.99997294\n",
      "f(5)=10.000 and w=1.99997699\n",
      "f(5)=10.000 and w=1.99998045\n",
      "f(5)=10.000 and w=1.99998343\n",
      "f(5)=10.000 and w=1.99998593\n",
      "f(5)=10.000 and w=1.99998808\n",
      "f(5)=10.000 and w=1.99998987\n",
      "f(5)=10.000 and w=1.99999142\n",
      "f(5)=10.000 and w=1.99999273\n",
      "f(5)=10.000 and w=1.99999380\n",
      "f(5)=10.000 and w=1.99999475\n",
      "f(5)=10.000 and w=1.99999559\n",
      "f(5)=10.000 and w=1.99999630\n",
      "f(5)=10.000 and w=1.99999690\n",
      "f(5)=10.000 and w=1.99999738\n",
      "f(5)=10.000 and w=1.99999774\n",
      "f(5)=10.000 and w=1.99999809\n",
      "f(5)=10.000 and w=1.99999833\n",
      "f(5)=10.000 and w=1.99999857\n",
      "f(5)=10.000 and w=1.99999881\n",
      "f(5)=10.000 and w=1.99999905\n",
      "f(5)=10.000 and w=1.99999917\n",
      "f(5)=10.000 and w=1.99999928\n",
      "f(5)=10.000 and w=1.99999940\n",
      "f(5)=10.000 and w=1.99999952\n",
      "f(5)=10.000 and w=1.99999964\n",
      "f(5)=10.000 and w=1.99999964\n",
      "f(5)=10.000 and w=1.99999964\n",
      "f(5)=10.000 and w=1.99999964\n",
      "f(5)=10.000 and w=1.99999964\n",
      "f(5)=10.000 and w=1.99999964\n",
      "f(5)=10.000 and w=1.99999964\n"
     ]
    }
   ],
   "source": [
    "for epoch in range(n_iters):\n",
    "    y_predicted = forward(X)\n",
    "    l = loss(y, y_predicted)\n",
    "    l.backward()\n",
    "    optimizer.step()\n",
    "    optimizer.zero_grad()\n",
    "    print(f'f(5)={forward(5):.3f} and w={w:.8f}')"
   ]
  },
  {
   "cell_type": "code",
   "execution_count": null,
   "id": "3c6054b5",
   "metadata": {},
   "outputs": [],
   "source": []
  }
 ],
 "metadata": {
  "kernelspec": {
   "display_name": "Python 3 (ipykernel)",
   "language": "python",
   "name": "python3"
  },
  "language_info": {
   "codemirror_mode": {
    "name": "ipython",
    "version": 3
   },
   "file_extension": ".py",
   "mimetype": "text/x-python",
   "name": "python",
   "nbconvert_exporter": "python",
   "pygments_lexer": "ipython3",
   "version": "3.10.9"
  }
 },
 "nbformat": 4,
 "nbformat_minor": 5
}
