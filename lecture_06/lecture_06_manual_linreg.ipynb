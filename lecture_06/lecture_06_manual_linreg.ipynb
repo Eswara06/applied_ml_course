{
 "cells": [
  {
   "cell_type": "code",
   "execution_count": 1,
   "id": "44d96148",
   "metadata": {},
   "outputs": [],
   "source": [
    "import numpy as np"
   ]
  },
  {
   "cell_type": "code",
   "execution_count": 2,
   "id": "a59682f2",
   "metadata": {},
   "outputs": [],
   "source": [
    "X = np.array([1,2,3,4])\n",
    "y = np.array([2,4,6,8])"
   ]
  },
  {
   "cell_type": "code",
   "execution_count": 3,
   "id": "a7bf8ec0",
   "metadata": {},
   "outputs": [],
   "source": [
    "w = 0.0"
   ]
  },
  {
   "cell_type": "code",
   "execution_count": 4,
   "id": "f78b016c",
   "metadata": {},
   "outputs": [],
   "source": [
    "def forward(x):\n",
    "    return w*x"
   ]
  },
  {
   "cell_type": "code",
   "execution_count": 5,
   "id": "38832cdd",
   "metadata": {},
   "outputs": [],
   "source": [
    "def loss(y, y_predicted):\n",
    "    return ((y - y_predicted)**2).mean()"
   ]
  },
  {
   "cell_type": "code",
   "execution_count": 6,
   "id": "9980deea",
   "metadata": {},
   "outputs": [],
   "source": [
    "def gradient(x, y, y_predicted):\n",
    "    return (1/len(x)) * np.dot(-2*x, y - y_predicted)"
   ]
  },
  {
   "cell_type": "code",
   "execution_count": 7,
   "id": "89c13ab2",
   "metadata": {},
   "outputs": [
    {
     "name": "stdout",
     "output_type": "stream",
     "text": [
      "Prediction before training f(5)=0.000\n"
     ]
    }
   ],
   "source": [
    "print(f'Prediction before training f(5)={forward(5):.3f}')"
   ]
  },
  {
   "cell_type": "code",
   "execution_count": 8,
   "id": "83b4a0a1",
   "metadata": {},
   "outputs": [
    {
     "name": "stdout",
     "output_type": "stream",
     "text": [
      "f(5)=1.500\n",
      "weight=0.30000000\n",
      "f(5)=2.775\n",
      "weight=0.55500000\n",
      "f(5)=3.859\n",
      "weight=0.77175000\n",
      "f(5)=4.780\n",
      "weight=0.95598750\n",
      "f(5)=5.563\n",
      "weight=1.11258937\n",
      "f(5)=6.229\n",
      "weight=1.24570097\n",
      "f(5)=6.794\n",
      "weight=1.35884582\n",
      "f(5)=7.275\n",
      "weight=1.45501895\n",
      "f(5)=7.684\n",
      "weight=1.53676611\n",
      "f(5)=8.031\n",
      "weight=1.60625119\n",
      "f(5)=8.327\n",
      "weight=1.66531351\n",
      "f(5)=8.578\n",
      "weight=1.71551649\n",
      "f(5)=8.791\n",
      "weight=1.75818901\n",
      "f(5)=8.972\n",
      "weight=1.79446066\n",
      "f(5)=9.126\n",
      "weight=1.82529156\n",
      "f(5)=9.257\n",
      "weight=1.85149783\n",
      "f(5)=9.369\n",
      "weight=1.87377315\n",
      "f(5)=9.464\n",
      "weight=1.89270718\n",
      "f(5)=9.544\n",
      "weight=1.90880110\n",
      "f(5)=9.612\n",
      "weight=1.92248094\n"
     ]
    }
   ],
   "source": [
    "learning_rate = 0.01\n",
    "n_iters = 20\n",
    "\n",
    "for epoch in range(n_iters):\n",
    "    y_predicted = forward(X)\n",
    "    l = loss(y, y_predicted)\n",
    "    dw = gradient(X, y, y_predicted)\n",
    "    w -= learning_rate * dw\n",
    "    print(f'f(5)={forward(5):.3f}')\n",
    "    print(f'weight={w:.8f}')"
   ]
  }
 ],
 "metadata": {
  "kernelspec": {
   "display_name": "Python 3 (ipykernel)",
   "language": "python",
   "name": "python3"
  },
  "language_info": {
   "codemirror_mode": {
    "name": "ipython",
    "version": 3
   },
   "file_extension": ".py",
   "mimetype": "text/x-python",
   "name": "python",
   "nbconvert_exporter": "python",
   "pygments_lexer": "ipython3",
   "version": "3.10.9"
  }
 },
 "nbformat": 4,
 "nbformat_minor": 5
}
