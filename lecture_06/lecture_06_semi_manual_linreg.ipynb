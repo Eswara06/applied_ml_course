{
 "cells": [
  {
   "cell_type": "code",
   "execution_count": 1,
   "id": "97c79b0b",
   "metadata": {},
   "outputs": [],
   "source": [
    "import torch"
   ]
  },
  {
   "cell_type": "code",
   "execution_count": 2,
   "id": "5e4e5b5c",
   "metadata": {},
   "outputs": [],
   "source": [
    "X = torch.tensor([1, 2, 3, 4], dtype=torch.float32)\n",
    "y = torch.tensor([2, 4, 6, 8], dtype=torch.float32)"
   ]
  },
  {
   "cell_type": "code",
   "execution_count": 3,
   "id": "739fcec7",
   "metadata": {},
   "outputs": [],
   "source": [
    "w = torch.tensor(0.0, dtype=torch.float32, requires_grad=True)"
   ]
  },
  {
   "cell_type": "code",
   "execution_count": 4,
   "id": "da4a5d95",
   "metadata": {},
   "outputs": [],
   "source": [
    "def forward(x):\n",
    "    return w * x"
   ]
  },
  {
   "cell_type": "code",
   "execution_count": 5,
   "id": "ada0848c",
   "metadata": {},
   "outputs": [],
   "source": [
    "def loss(y, y_predicted):\n",
    "    return((y_predicted-y)**2).mean()"
   ]
  },
  {
   "cell_type": "code",
   "execution_count": 6,
   "id": "463ee8f9",
   "metadata": {},
   "outputs": [],
   "source": [
    "learning_rate = 0.01\n",
    "n_iters = 20"
   ]
  },
  {
   "cell_type": "code",
   "execution_count": 7,
   "id": "b3241e03",
   "metadata": {},
   "outputs": [
    {
     "name": "stdout",
     "output_type": "stream",
     "text": [
      "f(5)=1.500 and w=0.29999998\n",
      "f(5)=2.775 and w=0.55499995\n",
      "f(5)=3.859 and w=0.77174991\n",
      "f(5)=4.780 and w=0.95598745\n",
      "f(5)=5.563 and w=1.11258936\n",
      "f(5)=6.229 and w=1.24570096\n",
      "f(5)=6.794 and w=1.35884583\n",
      "f(5)=7.275 and w=1.45501900\n",
      "f(5)=7.684 and w=1.53676617\n",
      "f(5)=8.031 and w=1.60625124\n",
      "f(5)=8.327 and w=1.66531360\n",
      "f(5)=8.578 and w=1.71551657\n",
      "f(5)=8.791 and w=1.75818908\n",
      "f(5)=8.972 and w=1.79446077\n",
      "f(5)=9.126 and w=1.82529163\n",
      "f(5)=9.257 and w=1.85149789\n",
      "f(5)=9.369 and w=1.87377322\n",
      "f(5)=9.464 and w=1.89270723\n",
      "f(5)=9.544 and w=1.90880120\n",
      "f(5)=9.612 and w=1.92248106\n"
     ]
    }
   ],
   "source": [
    "for epoch in range(n_iters):\n",
    "    y_predicted = forward(X)\n",
    "    l = loss(y, y_predicted)\n",
    "    l.backward()\n",
    "    dw = w.grad\n",
    "    with torch.no_grad():\n",
    "        w -= learning_rate * dw\n",
    "    w.grad.zero_()\n",
    "    print(f'f(5)={forward(5):.3f} and w={w:.8f}')"
   ]
  }
 ],
 "metadata": {
  "kernelspec": {
   "display_name": "Python 3 (ipykernel)",
   "language": "python",
   "name": "python3"
  },
  "language_info": {
   "codemirror_mode": {
    "name": "ipython",
    "version": 3
   },
   "file_extension": ".py",
   "mimetype": "text/x-python",
   "name": "python",
   "nbconvert_exporter": "python",
   "pygments_lexer": "ipython3",
   "version": "3.10.9"
  }
 },
 "nbformat": 4,
 "nbformat_minor": 5
}
