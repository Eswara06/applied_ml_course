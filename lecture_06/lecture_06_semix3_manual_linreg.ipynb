{
 "cells": [
  {
   "cell_type": "code",
   "execution_count": 1,
   "id": "c33d1c6e",
   "metadata": {},
   "outputs": [],
   "source": [
    "import torch\n",
    "import torch.nn as nn"
   ]
  },
  {
   "cell_type": "code",
   "execution_count": 2,
   "id": "d7fdb91d",
   "metadata": {},
   "outputs": [],
   "source": [
    "X = torch.tensor([[1], [2], [3], [4]], dtype=torch.float32)\n",
    "y = torch.tensor([[2], [4], [6], [8]], dtype=torch.float32)\n",
    "\n",
    "X_test = torch.tensor([5], dtype=torch.float32)"
   ]
  },
  {
   "cell_type": "code",
   "execution_count": 18,
   "id": "94543a6d",
   "metadata": {},
   "outputs": [],
   "source": [
    "model = nn.Linear(1, 1)\n",
    "\n",
    "# class LinearRegression(nn.Module):\n",
    "#     def __init__(self, input_dim, output_dim):\n",
    "#         super(LinearRegression, self).__init__()\n",
    "#         self.lin = nn.Linear(input_dim, output_dim)\n",
    "        \n",
    "#     def forward(self, x):\n",
    "#         return self.lin(x)\n",
    "\n",
    "# model = LinearRegression(1, 1)"
   ]
  },
  {
   "cell_type": "code",
   "execution_count": 19,
   "id": "ac82e428",
   "metadata": {},
   "outputs": [],
   "source": [
    "learning_rate = 0.01\n",
    "n_iters = 100"
   ]
  },
  {
   "cell_type": "code",
   "execution_count": 20,
   "id": "10015b68",
   "metadata": {},
   "outputs": [],
   "source": [
    "loss = nn.MSELoss()\n",
    "optimizer = torch.optim.SGD(model.parameters(), lr=learning_rate)"
   ]
  },
  {
   "cell_type": "code",
   "execution_count": 21,
   "id": "d8180c86",
   "metadata": {},
   "outputs": [
    {
     "name": "stdout",
     "output_type": "stream",
     "text": [
      "f(5)=1.048 and w=0.27552626\n",
      "f(5)=2.517 and w=0.55067396\n",
      "f(5)=3.740 and w=0.77990884\n",
      "f(5)=4.759 and w=0.97089845\n",
      "f(5)=5.608 and w=1.13002992\n",
      "f(5)=6.315 and w=1.26262355\n",
      "f(5)=6.905 and w=1.37311125\n",
      "f(5)=7.396 and w=1.46518469\n",
      "f(5)=7.805 and w=1.54191911\n",
      "f(5)=8.145 and w=1.60587609\n",
      "f(5)=8.429 and w=1.65918946\n",
      "f(5)=8.666 and w=1.70363665\n",
      "f(5)=8.863 and w=1.74069822\n",
      "f(5)=9.028 and w=1.77160752\n",
      "f(5)=9.164 and w=1.79739177\n",
      "f(5)=9.279 and w=1.81890690\n",
      "f(5)=9.374 and w=1.83686578\n",
      "f(5)=9.453 and w=1.85186219\n",
      "f(5)=9.519 and w=1.86439085\n",
      "f(5)=9.575 and w=1.87486362\n",
      "f(5)=9.621 and w=1.88362384\n",
      "f(5)=9.659 and w=1.89095747\n",
      "f(5)=9.691 and w=1.89710248\n",
      "f(5)=9.718 and w=1.90225744\n",
      "f(5)=9.740 and w=1.90658748\n",
      "f(5)=9.759 and w=1.91023028\n",
      "f(5)=9.775 and w=1.91330051\n",
      "f(5)=9.788 and w=1.91589367\n",
      "f(5)=9.799 and w=1.91808939\n",
      "f(5)=9.808 and w=1.91995382\n",
      "f(5)=9.816 and w=1.92154229\n",
      "f(5)=9.822 and w=1.92290068\n",
      "f(5)=9.828 and w=1.92406738\n",
      "f(5)=9.833 and w=1.92507434\n",
      "f(5)=9.837 and w=1.92594814\n",
      "f(5)=9.840 and w=1.92671084\n",
      "f(5)=9.843 and w=1.92738092\n",
      "f(5)=9.845 and w=1.92797363\n",
      "f(5)=9.848 and w=1.92850196\n",
      "f(5)=9.849 and w=1.92897642\n",
      "f(5)=9.851 and w=1.92940605\n",
      "f(5)=9.852 and w=1.92979813\n",
      "f(5)=9.854 and w=1.93015885\n",
      "f(5)=9.855 and w=1.93049335\n",
      "f(5)=9.856 and w=1.93080592\n",
      "f(5)=9.857 and w=1.93110013\n",
      "f(5)=9.857 and w=1.93137884\n",
      "f(5)=9.858 and w=1.93164468\n",
      "f(5)=9.859 and w=1.93189955\n",
      "f(5)=9.860 and w=1.93214536\n",
      "f(5)=9.860 and w=1.93238342\n",
      "f(5)=9.861 and w=1.93261492\n",
      "f(5)=9.861 and w=1.93284082\n",
      "f(5)=9.862 and w=1.93306208\n",
      "f(5)=9.862 and w=1.93327928\n",
      "f(5)=9.863 and w=1.93349302\n",
      "f(5)=9.863 and w=1.93370378\n",
      "f(5)=9.864 and w=1.93391204\n",
      "f(5)=9.864 and w=1.93411803\n",
      "f(5)=9.865 and w=1.93432200\n",
      "f(5)=9.865 and w=1.93452418\n",
      "f(5)=9.865 and w=1.93472493\n",
      "f(5)=9.866 and w=1.93492424\n",
      "f(5)=9.866 and w=1.93512237\n",
      "f(5)=9.867 and w=1.93531930\n",
      "f(5)=9.867 and w=1.93551517\n",
      "f(5)=9.868 and w=1.93571007\n",
      "f(5)=9.868 and w=1.93590415\n",
      "f(5)=9.868 and w=1.93609738\n",
      "f(5)=9.869 and w=1.93628979\n",
      "f(5)=9.869 and w=1.93648148\n",
      "f(5)=9.870 and w=1.93667233\n",
      "f(5)=9.870 and w=1.93686259\n",
      "f(5)=9.870 and w=1.93705213\n",
      "f(5)=9.871 and w=1.93724108\n",
      "f(5)=9.871 and w=1.93742931\n",
      "f(5)=9.871 and w=1.93761694\n",
      "f(5)=9.872 and w=1.93780398\n",
      "f(5)=9.872 and w=1.93799043\n",
      "f(5)=9.873 and w=1.93817627\n",
      "f(5)=9.873 and w=1.93836153\n",
      "f(5)=9.873 and w=1.93854618\n",
      "f(5)=9.874 and w=1.93873024\n",
      "f(5)=9.874 and w=1.93891370\n",
      "f(5)=9.875 and w=1.93909669\n",
      "f(5)=9.875 and w=1.93927908\n",
      "f(5)=9.875 and w=1.93946087\n",
      "f(5)=9.876 and w=1.93964219\n",
      "f(5)=9.876 and w=1.93982291\n",
      "f(5)=9.876 and w=1.94000316\n",
      "f(5)=9.877 and w=1.94018281\n",
      "f(5)=9.877 and w=1.94036186\n",
      "f(5)=9.878 and w=1.94054043\n",
      "f(5)=9.878 and w=1.94071841\n",
      "f(5)=9.878 and w=1.94089592\n",
      "f(5)=9.879 and w=1.94107282\n",
      "f(5)=9.879 and w=1.94124925\n",
      "f(5)=9.879 and w=1.94142520\n",
      "f(5)=9.880 and w=1.94160056\n",
      "f(5)=9.880 and w=1.94177544\n"
     ]
    }
   ],
   "source": [
    "for epoch in range(n_iters):\n",
    "    y_predicted = model(X)\n",
    "    l = loss(y, y_predicted)\n",
    "    l.backward()\n",
    "    optimizer.step()\n",
    "    optimizer.zero_grad()\n",
    "    [w, b] = model.parameters()\n",
    "    print(f'f(5)={model(X_test).item():.3f} and w={w.item():.8f}')"
   ]
  },
  {
   "cell_type": "code",
   "execution_count": null,
   "id": "463904d7",
   "metadata": {},
   "outputs": [],
   "source": []
  }
 ],
 "metadata": {
  "kernelspec": {
   "display_name": "Python 3 (ipykernel)",
   "language": "python",
   "name": "python3"
  },
  "language_info": {
   "codemirror_mode": {
    "name": "ipython",
    "version": 3
   },
   "file_extension": ".py",
   "mimetype": "text/x-python",
   "name": "python",
   "nbconvert_exporter": "python",
   "pygments_lexer": "ipython3",
   "version": "3.10.9"
  }
 },
 "nbformat": 4,
 "nbformat_minor": 5
}
