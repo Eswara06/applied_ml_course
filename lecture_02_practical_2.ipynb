{
 "cells": [
  {
   "cell_type": "markdown",
   "id": "5a6323d8",
   "metadata": {},
   "source": [
    "# Python Data Structures for Data Science: Numpy and Pandas\n",
    "\n",
    "In the last practical, we took a look at some basic concepts in python. We covered:\n",
    "1. Basic data types like numerics and strings.\n",
    "2. Compound data types like lists, tuples, and dictionaries.\n",
    "3. Control flow devices like if, else, for, and while.\n",
    "These concepts give us access to some powerful abilities, however most data scientists and analysts are not writing for loops over lists to understand their data. Instead, they are using even higher level objects to structure their data - namely numpy arrays and pandas dataframes. In this practical, we introduce these libraries and objects, giving a glimpse into how data analysis is actually done in practice.\n",
    "\n",
    "For this practical, we generally follow the standard tutorials for these libraries found here:\n",
    "- [Numpy](https://numpy.org/devdocs/user/quickstart.html)\n",
    "- [Pandas](https://pandas.pydata.org/docs/user_guide/index.html)"
   ]
  },
  {
   "cell_type": "code",
   "execution_count": 10,
   "id": "8430db5c",
   "metadata": {},
   "outputs": [],
   "source": [
    "import numpy as np\n",
    "import time"
   ]
  },
  {
   "cell_type": "code",
   "execution_count": 7,
   "id": "b7327f74",
   "metadata": {},
   "outputs": [],
   "source": [
    "heights = np.random.normal(size=1000000)\n",
    "heights_list = heights.tolist()"
   ]
  },
  {
   "cell_type": "code",
   "execution_count": 12,
   "id": "26d6adfd",
   "metadata": {},
   "outputs": [
    {
     "name": "stdout",
     "output_type": "stream",
     "text": [
      "Mean:  0.0003295294650386633\n",
      "Elapsed time:  0.08501995899996473\n"
     ]
    }
   ],
   "source": [
    "start_time = time.perf_counter()\n",
    "sum_nums = 0\n",
    "for i in heights_list:\n",
    "    sum_nums = sum_nums + i\n",
    "print('Mean: ', sum_nums / len(heights_list))\n",
    "end_time = time.perf_counter()\n",
    "print('Elapsed time: ', end_time - start_time)"
   ]
  },
  {
   "cell_type": "code",
   "execution_count": 14,
   "id": "857f9998",
   "metadata": {},
   "outputs": [
    {
     "name": "stdout",
     "output_type": "stream",
     "text": [
      "Mean:  0.00032952946503865733\n",
      "Elapsed time:  0.0010757919999377918\n"
     ]
    }
   ],
   "source": [
    "start_time = time.perf_counter()\n",
    "print('Mean: ', heights.mean())\n",
    "end_time = time.perf_counter()\n",
    "print('Elapsed time: ', end_time - start_time)"
   ]
  },
  {
   "cell_type": "code",
   "execution_count": null,
   "id": "ee1e3ca7",
   "metadata": {},
   "outputs": [],
   "source": [
    " "
   ]
  }
 ],
 "metadata": {
  "kernelspec": {
   "display_name": "Python 3 (ipykernel)",
   "language": "python",
   "name": "python3"
  },
  "language_info": {
   "codemirror_mode": {
    "name": "ipython",
    "version": 3
   },
   "file_extension": ".py",
   "mimetype": "text/x-python",
   "name": "python",
   "nbconvert_exporter": "python",
   "pygments_lexer": "ipython3",
   "version": "3.10.9"
  }
 },
 "nbformat": 4,
 "nbformat_minor": 5
}
