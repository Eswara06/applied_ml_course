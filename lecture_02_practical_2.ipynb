{
 "cells": [
  {
   "cell_type": "markdown",
   "id": "5a6323d8",
   "metadata": {},
   "source": [
    "# Python Data Structures for Data Science: Numpy and Pandas\n",
    "\n",
    "In the last practical, we took a look at some basic concepts in python. We covered:\n",
    "1. Basic data types like numerics and strings.\n",
    "2. Compound data types like lists, tuples, and dictionaries.\n",
    "3. Control flow devices like if, else, for, and while.\n",
    "These concepts give us access to some powerful abilities, however most data scientists and analysts are not writing for loops over lists to understand their data. Instead, they are using even higher level objects to structure their data - namely numpy arrays and pandas dataframes. In this practical, we introduce these libraries and objects, giving a glimpse into how data analysis is actually done in practice.\n",
    "\n",
    "For this practical, we generally follow the standard tutorials for these libraries found here:\n",
    "- [Numpy](https://numpy.org/devdocs/user/quickstart.html)\n",
    "- [Pandas](https://pandas.pydata.org/docs/user_guide/index.html)\n",
    "\n",
    "When first encountering numpy arrays, it is natural to wonder why we even need them. After all, they look a lot like the ordinary lists we have already learned about. There are, as we will see, several advantages to their use. The first we will look at is speed. Let's do a small experiment of calculating the mean of one million numbers - first by iterating over a list and second by making use of a numpy array method."
   ]
  },
  {
   "cell_type": "code",
   "execution_count": 59,
   "id": "8430db5c",
   "metadata": {},
   "outputs": [],
   "source": [
    "import numpy as np\n",
    "import pandas as pd\n",
    "import time"
   ]
  },
  {
   "cell_type": "code",
   "execution_count": 2,
   "id": "b7327f74",
   "metadata": {},
   "outputs": [],
   "source": [
    "heights = np.random.normal(size=1000000) #this is a numpy array\n",
    "heights_list = heights.tolist() #this is a list"
   ]
  },
  {
   "cell_type": "code",
   "execution_count": 3,
   "id": "26d6adfd",
   "metadata": {},
   "outputs": [
    {
     "name": "stdout",
     "output_type": "stream",
     "text": [
      "Mean:  0.0017307978739592488\n",
      "Elapsed time:  0.07947445799982233\n"
     ]
    }
   ],
   "source": [
    "start_time = time.perf_counter()\n",
    "sum_nums = 0\n",
    "for i in heights_list:\n",
    "    sum_nums = sum_nums + i\n",
    "print('Mean: ', sum_nums / len(heights_list))\n",
    "end_time = time.perf_counter()\n",
    "list_time = end_time - start_time\n",
    "print('Elapsed time: ', list_time)"
   ]
  },
  {
   "cell_type": "code",
   "execution_count": 4,
   "id": "857f9998",
   "metadata": {},
   "outputs": [
    {
     "name": "stdout",
     "output_type": "stream",
     "text": [
      "Mean:  0.001730797873959119\n",
      "Elapsed time:  0.0011659589999908349\n"
     ]
    }
   ],
   "source": [
    "start_time = time.perf_counter()\n",
    "print('Mean: ', heights.mean())\n",
    "end_time = time.perf_counter()\n",
    "numpy_time = end_time - start_time\n",
    "print('Elapsed time: ', numpy_time)"
   ]
  },
  {
   "cell_type": "code",
   "execution_count": 5,
   "id": "ee1e3ca7",
   "metadata": {},
   "outputs": [
    {
     "data": {
      "text/plain": [
       "0.014670864442931355"
      ]
     },
     "execution_count": 5,
     "metadata": {},
     "output_type": "execute_result"
    }
   ],
   "source": [
    " numpy_time / list_time"
   ]
  },
  {
   "cell_type": "markdown",
   "id": "4b5ef5f8",
   "metadata": {},
   "source": [
    "It seems there is in fact a big speed advantage in this case!\n",
    "\n",
    "Another advantage is the quantity of built-in methods. This allows us to transform our data quickly and with very few lines of code:"
   ]
  },
  {
   "cell_type": "code",
   "execution_count": 6,
   "id": "65c5104f",
   "metadata": {},
   "outputs": [],
   "source": [
    "test_np_array = np.array([1, 2, 3, 4, 5])"
   ]
  },
  {
   "cell_type": "code",
   "execution_count": 9,
   "id": "6cade7d3",
   "metadata": {},
   "outputs": [
    {
     "data": {
      "text/plain": [
       "array([0.        , 0.69314718, 1.09861229, 1.38629436, 1.60943791])"
      ]
     },
     "execution_count": 9,
     "metadata": {},
     "output_type": "execute_result"
    }
   ],
   "source": [
    "# log transform\n",
    "my_logs = np.log(test_np_array)\n",
    "my_logs"
   ]
  },
  {
   "cell_type": "code",
   "execution_count": 10,
   "id": "9b15e4d9",
   "metadata": {},
   "outputs": [
    {
     "data": {
      "text/plain": [
       "array([1., 2., 3., 4., 5.])"
      ]
     },
     "execution_count": 10,
     "metadata": {},
     "output_type": "execute_result"
    }
   ],
   "source": [
    "# exponential tranform\n",
    "np.exp(my_logs)"
   ]
  },
  {
   "cell_type": "code",
   "execution_count": 13,
   "id": "95913d4c",
   "metadata": {},
   "outputs": [
    {
     "data": {
      "text/plain": [
       "array([1.        , 1.41421356, 1.73205081, 2.        , 2.23606798])"
      ]
     },
     "execution_count": 13,
     "metadata": {},
     "output_type": "execute_result"
    }
   ],
   "source": [
    "# square roots\n",
    "my_sqrts = np.sqrt(test_np_array)\n",
    "my_sqrts"
   ]
  },
  {
   "cell_type": "code",
   "execution_count": 14,
   "id": "f645e863",
   "metadata": {},
   "outputs": [
    {
     "data": {
      "text/plain": [
       "array([1., 2., 3., 4., 5.])"
      ]
     },
     "execution_count": 14,
     "metadata": {},
     "output_type": "execute_result"
    }
   ],
   "source": [
    "np.square(my_sqrts)"
   ]
  },
  {
   "cell_type": "code",
   "execution_count": 16,
   "id": "f3724a22",
   "metadata": {},
   "outputs": [
    {
     "data": {
      "text/plain": [
       "array([0.        , 0.98025814, 1.9028523 , 2.77258872, 3.59881258])"
      ]
     },
     "execution_count": 16,
     "metadata": {},
     "output_type": "execute_result"
    }
   ],
   "source": [
    "my_sqrts * my_logs"
   ]
  },
  {
   "cell_type": "markdown",
   "id": "96bf0847",
   "metadata": {},
   "source": [
    "Yet another advantage is in providing a natural setting for us to do linear algebra - something lists do not provide. We now demonstrate this connection and introduce the numpy library and its core objects more systematically.\n",
    "\n",
    "The main object in numpy is the \"ndarray\" (n-dimensional array) or just \"array\". Let's see some examples:"
   ]
  },
  {
   "cell_type": "code",
   "execution_count": 78,
   "id": "95a93ba8",
   "metadata": {},
   "outputs": [
    {
     "name": "stdout",
     "output_type": "stream",
     "text": [
      "Vector sum:  [ 3  6  9 16]\n",
      "Element-wise product:  [ 2  8 18 48]\n",
      "Dot product:  76\n"
     ]
    }
   ],
   "source": [
    "# ndarrays can behave like vectors!\n",
    "\n",
    "vec_1 = np.array([1, 2, 3, 4])\n",
    "vec_2 = np.array([2, 4, 6, 12])\n",
    "\n",
    "print('Vector sum: ', vec_1 + vec_2)\n",
    "print('Element-wise product: ', vec_1 * vec_2)\n",
    "print('Dot product: ', np.dot(vec_1, vec_2))"
   ]
  },
  {
   "cell_type": "code",
   "execution_count": 47,
   "id": "26fa3649",
   "metadata": {},
   "outputs": [
    {
     "name": "stdout",
     "output_type": "stream",
     "text": [
      "[[1 2 3]\n",
      " [4 5 6]\n",
      " [7 8 9]]\n",
      "[[1 1]\n",
      " [2 2]\n",
      " [3 3]]\n",
      "[[ 2  4  6]\n",
      " [ 3  6  9]\n",
      " [ 4  8 12]]\n"
     ]
    }
   ],
   "source": [
    "# ndarrays van behave like matrices!\n",
    "mat_1 = np.array([[1, 2, 3], [4, 5, 6], [7, 8, 9]])\n",
    "mat_2 = np.array([[1, 1], [2, 2], [3, 3]])\n",
    "mat_3 = np.array([[2, 4, 6], [3, 6, 9], [4, 8, 12]])\n",
    "\n",
    "print(mat_1)\n",
    "print(mat_2)\n",
    "print(mat_3)"
   ]
  },
  {
   "cell_type": "code",
   "execution_count": 48,
   "id": "d4341821",
   "metadata": {},
   "outputs": [
    {
     "data": {
      "text/plain": [
       "array([[ 3,  6,  9],\n",
       "       [ 7, 11, 15],\n",
       "       [11, 16, 21]])"
      ]
     },
     "execution_count": 48,
     "metadata": {},
     "output_type": "execute_result"
    }
   ],
   "source": [
    "# Matrix sums\n",
    "mat_1 + mat_3"
   ]
  },
  {
   "cell_type": "code",
   "execution_count": 49,
   "id": "23ea5c50",
   "metadata": {},
   "outputs": [
    {
     "data": {
      "text/plain": [
       "array([[14, 14],\n",
       "       [32, 32],\n",
       "       [50, 50]])"
      ]
     },
     "execution_count": 49,
     "metadata": {},
     "output_type": "execute_result"
    }
   ],
   "source": [
    "# Matrix multiplication\n",
    "mat_1 @ mat_2"
   ]
  },
  {
   "cell_type": "code",
   "execution_count": 50,
   "id": "4c7357a3",
   "metadata": {},
   "outputs": [
    {
     "data": {
      "text/plain": [
       "array([[[1, 2, 3],\n",
       "        [4, 5, 6]],\n",
       "\n",
       "       [[1, 1, 1],\n",
       "        [2, 2, 2]]])"
      ]
     },
     "execution_count": 50,
     "metadata": {},
     "output_type": "execute_result"
    }
   ],
   "source": [
    "# ndarrays can be higher-order things (tensors)\n",
    "ten_1 = np.array([[[1, 2, 3], [4, 5, 6]], [[1, 1, 1], [2, 2, 2]]])\n",
    "ten_1"
   ]
  },
  {
   "cell_type": "code",
   "execution_count": 53,
   "id": "7b624c9b",
   "metadata": {},
   "outputs": [
    {
     "name": "stdout",
     "output_type": "stream",
     "text": [
      "vec_1:  [1 2 3 4]\n",
      "vec_1 - shape:  (4,)  ndim:  1  size:  4\n",
      "mat_1: \n",
      "[[1 2 3]\n",
      " [4 5 6]\n",
      " [7 8 9]]\n",
      "mat_1 - shape:  (3, 3)  ndim:  2  size:  9\n",
      "ten_1: \n",
      "[[[1 2 3]\n",
      "  [4 5 6]]\n",
      "\n",
      " [[1 1 1]\n",
      "  [2 2 2]]]\n",
      "ten_1 - shape:  (2, 2, 3)  ndim:  3  size:  12\n"
     ]
    }
   ],
   "source": [
    "# Each of these things have many properties, however shape, ndim, and size are useful to start with\n",
    "\n",
    "print(\"vec_1: \", vec_1)\n",
    "print(\"vec_1 - shape: \", vec_1.shape, \" ndim: \", vec_1.ndim, \" size: \", vec_1.size)\n",
    "\n",
    "print(\"mat_1: \")\n",
    "print(mat_1)\n",
    "print(\"mat_1 - shape: \", mat_1.shape, \" ndim: \", mat_1.ndim, \" size: \", mat_1.size)\n",
    "\n",
    "print(\"ten_1: \")\n",
    "print(ten_1)\n",
    "print(\"ten_1 - shape: \", ten_1.shape, \" ndim: \", ten_1.ndim, \" size: \", ten_1.size)"
   ]
  },
  {
   "cell_type": "code",
   "execution_count": 58,
   "id": "ee8a5f69",
   "metadata": {},
   "outputs": [
    {
     "name": "stdout",
     "output_type": "stream",
     "text": [
      "Sliced vector:\n",
      "[1 2]\n",
      "Sliced matrix:\n",
      "[[2 3]\n",
      " [5 6]]\n",
      "Sliced tensor:\n",
      "[3 6]\n"
     ]
    }
   ],
   "source": [
    "# Like lists, ndarrays can be sliced, with one set of indices per dimension\n",
    "\n",
    "# Slicing a vector\n",
    "print('Sliced vector:')\n",
    "print(vec_1[:2])\n",
    "\n",
    "# Slicing a matrix\n",
    "print('Sliced matrix:')\n",
    "print(mat_1[:2, 1:])\n",
    "\n",
    "# Slicing a tensor\n",
    "print('Sliced tensor:')\n",
    "print(ten_1[0, 0:2, 2])"
   ]
  },
  {
   "cell_type": "markdown",
   "id": "c9cdb8cd",
   "metadata": {},
   "source": [
    "I encourage you to review numpy in more detail [here](https://numpy.org/devdocs/user/quickstart.html), but for now we leave numpy behind and move on to pandas - in particular, the pandas series and dataframe.\n",
    "\n",
    "The pandas dataframe is the common setting for most data science and analysis tasks that concern tabular data. It contains rows and columns of data along with labels for the rows and columns so that we can reference the data easily. A single column of a pandas dataframe is a Series, and it behaves very similarly to a 1-dimensional numpy array, with the notable exception that each element is labelled via the index.\n",
    "\n",
    "We create a pandas Series by passing in the data and index. The data can be many things (like a dictionary or numpy array) and the index can be left blank if there is no natural one."
   ]
  },
  {
   "cell_type": "code",
   "execution_count": 62,
   "id": "71518605",
   "metadata": {},
   "outputs": [
    {
     "data": {
      "text/plain": [
       "0    1\n",
       "1    2\n",
       "2    3\n",
       "3    4\n",
       "dtype: int64"
      ]
     },
     "execution_count": 62,
     "metadata": {},
     "output_type": "execute_result"
    }
   ],
   "source": [
    "# creating a series from a numpy array and using the default index\n",
    "\n",
    "my_series_1 = pd.Series(vec_1)\n",
    "my_series_1"
   ]
  },
  {
   "cell_type": "code",
   "execution_count": 65,
   "id": "44cc99eb",
   "metadata": {},
   "outputs": [
    {
     "data": {
      "text/plain": [
       "a    1\n",
       "b    2\n",
       "c    3\n",
       "d    4\n",
       "dtype: int64"
      ]
     },
     "execution_count": 65,
     "metadata": {},
     "output_type": "execute_result"
    }
   ],
   "source": [
    "# creating a series and using a specific index\n",
    "my_series_2 = pd.Series(vec_1, index=['a','b','c','d'])\n",
    "my_series_2"
   ]
  },
  {
   "cell_type": "code",
   "execution_count": 71,
   "id": "1eb7ede4",
   "metadata": {},
   "outputs": [
    {
     "name": "stdout",
     "output_type": "stream",
     "text": [
      "a    1\n",
      "c    3\n",
      "dtype: int64\n",
      "2\n"
     ]
    }
   ],
   "source": [
    "# subsetting is natural by index\n",
    "print(my_series_2[['a','c']])\n",
    "\n",
    "# you can also access elements like a dictionary\n",
    "print(my_series_2['b'])"
   ]
  },
  {
   "cell_type": "code",
   "execution_count": 70,
   "id": "0801beef",
   "metadata": {},
   "outputs": [
    {
     "data": {
      "text/plain": [
       "a    0.540302\n",
       "b   -0.416147\n",
       "c   -0.989992\n",
       "d   -0.653644\n",
       "dtype: float64"
      ]
     },
     "execution_count": 70,
     "metadata": {},
     "output_type": "execute_result"
    }
   ],
   "source": [
    "# things that work on numpy arrays generally work on Series\n",
    "np.cos(my_series_2)"
   ]
  },
  {
   "cell_type": "markdown",
   "id": "a42a5d52",
   "metadata": {},
   "source": [
    "Pandas series also have a name attribute that we can set. This becomes natural, when we consider dataframes. This is because the columns of a dataframe will be series, and the column name will be the series name."
   ]
  },
  {
   "cell_type": "code",
   "execution_count": 75,
   "id": "e6ff7e5b",
   "metadata": {},
   "outputs": [
    {
     "name": "stdout",
     "output_type": "stream",
     "text": [
      "foo    1\n",
      "bar    2\n",
      "baz    3\n",
      "bat    4\n",
      "Name: integers, dtype: int64\n",
      "integers\n"
     ]
    }
   ],
   "source": [
    "# I have a name\n",
    "named_series = pd.Series(vec_1, index=['foo', 'bar', 'baz', 'bat'], name='integers')\n",
    "print(named_series)\n",
    "print(named_series.name)"
   ]
  },
  {
   "cell_type": "markdown",
   "id": "d712f28a",
   "metadata": {},
   "source": [
    "Armed with the knowledge that a series is a like a numpy array with an index and a name, we can move on to pandas dataframes, which will be like a bunch of Series stuck side by side.\n",
    "\n",
    "We can create pandas dataframes in many ways - we generally need to specify:\n",
    "1. The data.\n",
    "2. The column names (we can ignore this and use defaults).\n",
    "3. The row names (we can ignore this and use defaults).\n",
    "\n",
    "Two common such ways are from a dictionary or from a csv."
   ]
  },
  {
   "cell_type": "code",
   "execution_count": 81,
   "id": "59b81b83",
   "metadata": {},
   "outputs": [],
   "source": [
    "my_dictionary = {'integers': pd.Series(vec_1, index=['a', 'b', 'c', 'd']),\n",
    "                 'even_integers': pd.Series(vec_2, index=['a', 'b', 'c', 'f'])}\n",
    "my_df = pd.DataFrame(my_dictionary)"
   ]
  },
  {
   "cell_type": "code",
   "execution_count": 83,
   "id": "97d9dbd2",
   "metadata": {},
   "outputs": [
    {
     "data": {
      "text/html": [
       "<div>\n",
       "<style scoped>\n",
       "    .dataframe tbody tr th:only-of-type {\n",
       "        vertical-align: middle;\n",
       "    }\n",
       "\n",
       "    .dataframe tbody tr th {\n",
       "        vertical-align: top;\n",
       "    }\n",
       "\n",
       "    .dataframe thead th {\n",
       "        text-align: right;\n",
       "    }\n",
       "</style>\n",
       "<table border=\"1\" class=\"dataframe\">\n",
       "  <thead>\n",
       "    <tr style=\"text-align: right;\">\n",
       "      <th></th>\n",
       "      <th>integers</th>\n",
       "      <th>even_integers</th>\n",
       "    </tr>\n",
       "  </thead>\n",
       "  <tbody>\n",
       "    <tr>\n",
       "      <th>a</th>\n",
       "      <td>1.0</td>\n",
       "      <td>2.0</td>\n",
       "    </tr>\n",
       "    <tr>\n",
       "      <th>b</th>\n",
       "      <td>2.0</td>\n",
       "      <td>4.0</td>\n",
       "    </tr>\n",
       "    <tr>\n",
       "      <th>c</th>\n",
       "      <td>3.0</td>\n",
       "      <td>6.0</td>\n",
       "    </tr>\n",
       "    <tr>\n",
       "      <th>d</th>\n",
       "      <td>4.0</td>\n",
       "      <td>NaN</td>\n",
       "    </tr>\n",
       "    <tr>\n",
       "      <th>f</th>\n",
       "      <td>NaN</td>\n",
       "      <td>12.0</td>\n",
       "    </tr>\n",
       "  </tbody>\n",
       "</table>\n",
       "</div>"
      ],
      "text/plain": [
       "   integers  even_integers\n",
       "a       1.0            2.0\n",
       "b       2.0            4.0\n",
       "c       3.0            6.0\n",
       "d       4.0            NaN\n",
       "f       NaN           12.0"
      ]
     },
     "execution_count": 83,
     "metadata": {},
     "output_type": "execute_result"
    }
   ],
   "source": [
    "# note how the index is observed and NaNs are created!\n",
    "my_df"
   ]
  },
  {
   "cell_type": "code",
   "execution_count": 87,
   "id": "5151a869",
   "metadata": {},
   "outputs": [],
   "source": [
    "# there are many options for reading from a csv depending on how the .csv file is structured\n",
    "my_df_2 = pd.read_csv('lecture_02_data.csv',\n",
    "                      names =['sex', 'length', 'diameter', 'height',\n",
    "                              'whole_weight', 'shucked_weight', 'viscera_weight',\n",
    "                              'shell_weight', 'rings'])"
   ]
  },
  {
   "cell_type": "code",
   "execution_count": 88,
   "id": "729b72b6",
   "metadata": {},
   "outputs": [
    {
     "data": {
      "text/html": [
       "<div>\n",
       "<style scoped>\n",
       "    .dataframe tbody tr th:only-of-type {\n",
       "        vertical-align: middle;\n",
       "    }\n",
       "\n",
       "    .dataframe tbody tr th {\n",
       "        vertical-align: top;\n",
       "    }\n",
       "\n",
       "    .dataframe thead th {\n",
       "        text-align: right;\n",
       "    }\n",
       "</style>\n",
       "<table border=\"1\" class=\"dataframe\">\n",
       "  <thead>\n",
       "    <tr style=\"text-align: right;\">\n",
       "      <th></th>\n",
       "      <th>sex</th>\n",
       "      <th>length</th>\n",
       "      <th>diameter</th>\n",
       "      <th>height</th>\n",
       "      <th>whole_weight</th>\n",
       "      <th>shucked_weight</th>\n",
       "      <th>viscera_weight</th>\n",
       "      <th>shell_weight</th>\n",
       "      <th>rings</th>\n",
       "    </tr>\n",
       "  </thead>\n",
       "  <tbody>\n",
       "    <tr>\n",
       "      <th>0</th>\n",
       "      <td>M</td>\n",
       "      <td>0.455</td>\n",
       "      <td>0.365</td>\n",
       "      <td>0.095</td>\n",
       "      <td>0.5140</td>\n",
       "      <td>0.2245</td>\n",
       "      <td>0.1010</td>\n",
       "      <td>0.150</td>\n",
       "      <td>15</td>\n",
       "    </tr>\n",
       "    <tr>\n",
       "      <th>1</th>\n",
       "      <td>M</td>\n",
       "      <td>0.350</td>\n",
       "      <td>0.265</td>\n",
       "      <td>0.090</td>\n",
       "      <td>0.2255</td>\n",
       "      <td>0.0995</td>\n",
       "      <td>0.0485</td>\n",
       "      <td>0.070</td>\n",
       "      <td>7</td>\n",
       "    </tr>\n",
       "    <tr>\n",
       "      <th>2</th>\n",
       "      <td>F</td>\n",
       "      <td>0.530</td>\n",
       "      <td>0.420</td>\n",
       "      <td>0.135</td>\n",
       "      <td>0.6770</td>\n",
       "      <td>0.2565</td>\n",
       "      <td>0.1415</td>\n",
       "      <td>0.210</td>\n",
       "      <td>9</td>\n",
       "    </tr>\n",
       "    <tr>\n",
       "      <th>3</th>\n",
       "      <td>M</td>\n",
       "      <td>0.440</td>\n",
       "      <td>0.365</td>\n",
       "      <td>0.125</td>\n",
       "      <td>0.5160</td>\n",
       "      <td>0.2155</td>\n",
       "      <td>0.1140</td>\n",
       "      <td>0.155</td>\n",
       "      <td>10</td>\n",
       "    </tr>\n",
       "    <tr>\n",
       "      <th>4</th>\n",
       "      <td>I</td>\n",
       "      <td>0.330</td>\n",
       "      <td>0.255</td>\n",
       "      <td>0.080</td>\n",
       "      <td>0.2050</td>\n",
       "      <td>0.0895</td>\n",
       "      <td>0.0395</td>\n",
       "      <td>0.055</td>\n",
       "      <td>7</td>\n",
       "    </tr>\n",
       "    <tr>\n",
       "      <th>5</th>\n",
       "      <td>I</td>\n",
       "      <td>0.425</td>\n",
       "      <td>0.300</td>\n",
       "      <td>0.095</td>\n",
       "      <td>0.3515</td>\n",
       "      <td>0.1410</td>\n",
       "      <td>0.0775</td>\n",
       "      <td>0.120</td>\n",
       "      <td>8</td>\n",
       "    </tr>\n",
       "    <tr>\n",
       "      <th>6</th>\n",
       "      <td>F</td>\n",
       "      <td>0.530</td>\n",
       "      <td>0.415</td>\n",
       "      <td>0.150</td>\n",
       "      <td>0.7775</td>\n",
       "      <td>0.2370</td>\n",
       "      <td>0.1415</td>\n",
       "      <td>0.330</td>\n",
       "      <td>20</td>\n",
       "    </tr>\n",
       "    <tr>\n",
       "      <th>7</th>\n",
       "      <td>F</td>\n",
       "      <td>0.545</td>\n",
       "      <td>0.425</td>\n",
       "      <td>0.125</td>\n",
       "      <td>0.7680</td>\n",
       "      <td>0.2940</td>\n",
       "      <td>0.1495</td>\n",
       "      <td>0.260</td>\n",
       "      <td>16</td>\n",
       "    </tr>\n",
       "    <tr>\n",
       "      <th>8</th>\n",
       "      <td>M</td>\n",
       "      <td>0.475</td>\n",
       "      <td>0.370</td>\n",
       "      <td>0.125</td>\n",
       "      <td>0.5095</td>\n",
       "      <td>0.2165</td>\n",
       "      <td>0.1125</td>\n",
       "      <td>0.165</td>\n",
       "      <td>9</td>\n",
       "    </tr>\n",
       "    <tr>\n",
       "      <th>9</th>\n",
       "      <td>F</td>\n",
       "      <td>0.550</td>\n",
       "      <td>0.440</td>\n",
       "      <td>0.150</td>\n",
       "      <td>0.8945</td>\n",
       "      <td>0.3145</td>\n",
       "      <td>0.1510</td>\n",
       "      <td>0.320</td>\n",
       "      <td>19</td>\n",
       "    </tr>\n",
       "  </tbody>\n",
       "</table>\n",
       "</div>"
      ],
      "text/plain": [
       "  sex  length  diameter  height  whole_weight  shucked_weight  viscera_weight  \\\n",
       "0   M   0.455     0.365   0.095        0.5140          0.2245          0.1010   \n",
       "1   M   0.350     0.265   0.090        0.2255          0.0995          0.0485   \n",
       "2   F   0.530     0.420   0.135        0.6770          0.2565          0.1415   \n",
       "3   M   0.440     0.365   0.125        0.5160          0.2155          0.1140   \n",
       "4   I   0.330     0.255   0.080        0.2050          0.0895          0.0395   \n",
       "5   I   0.425     0.300   0.095        0.3515          0.1410          0.0775   \n",
       "6   F   0.530     0.415   0.150        0.7775          0.2370          0.1415   \n",
       "7   F   0.545     0.425   0.125        0.7680          0.2940          0.1495   \n",
       "8   M   0.475     0.370   0.125        0.5095          0.2165          0.1125   \n",
       "9   F   0.550     0.440   0.150        0.8945          0.3145          0.1510   \n",
       "\n",
       "   shell_weight  rings  \n",
       "0         0.150     15  \n",
       "1         0.070      7  \n",
       "2         0.210      9  \n",
       "3         0.155     10  \n",
       "4         0.055      7  \n",
       "5         0.120      8  \n",
       "6         0.330     20  \n",
       "7         0.260     16  \n",
       "8         0.165      9  \n",
       "9         0.320     19  "
      ]
     },
     "execution_count": 88,
     "metadata": {},
     "output_type": "execute_result"
    }
   ],
   "source": [
    "my_df_2.head(10)"
   ]
  },
  {
   "cell_type": "markdown",
   "id": "4c10391b",
   "metadata": {},
   "source": [
    "However you create the dataframe, you can treat it as a dictionary of series objects keyed on column name. Let's use this strategy to create some columns:"
   ]
  },
  {
   "cell_type": "code",
   "execution_count": 92,
   "id": "032a986d",
   "metadata": {},
   "outputs": [
    {
     "data": {
      "text/html": [
       "<div>\n",
       "<style scoped>\n",
       "    .dataframe tbody tr th:only-of-type {\n",
       "        vertical-align: middle;\n",
       "    }\n",
       "\n",
       "    .dataframe tbody tr th {\n",
       "        vertical-align: top;\n",
       "    }\n",
       "\n",
       "    .dataframe thead th {\n",
       "        text-align: right;\n",
       "    }\n",
       "</style>\n",
       "<table border=\"1\" class=\"dataframe\">\n",
       "  <thead>\n",
       "    <tr style=\"text-align: right;\">\n",
       "      <th></th>\n",
       "      <th>integers</th>\n",
       "      <th>even_integers</th>\n",
       "      <th>A</th>\n",
       "      <th>B</th>\n",
       "    </tr>\n",
       "  </thead>\n",
       "  <tbody>\n",
       "    <tr>\n",
       "      <th>a</th>\n",
       "      <td>1.0</td>\n",
       "      <td>2.0</td>\n",
       "      <td>2.0</td>\n",
       "      <td>True</td>\n",
       "    </tr>\n",
       "    <tr>\n",
       "      <th>b</th>\n",
       "      <td>2.0</td>\n",
       "      <td>4.0</td>\n",
       "      <td>8.0</td>\n",
       "      <td>False</td>\n",
       "    </tr>\n",
       "    <tr>\n",
       "      <th>c</th>\n",
       "      <td>3.0</td>\n",
       "      <td>6.0</td>\n",
       "      <td>18.0</td>\n",
       "      <td>False</td>\n",
       "    </tr>\n",
       "    <tr>\n",
       "      <th>d</th>\n",
       "      <td>4.0</td>\n",
       "      <td>NaN</td>\n",
       "      <td>NaN</td>\n",
       "      <td>False</td>\n",
       "    </tr>\n",
       "    <tr>\n",
       "      <th>f</th>\n",
       "      <td>NaN</td>\n",
       "      <td>12.0</td>\n",
       "      <td>NaN</td>\n",
       "      <td>False</td>\n",
       "    </tr>\n",
       "  </tbody>\n",
       "</table>\n",
       "</div>"
      ],
      "text/plain": [
       "   integers  even_integers     A      B\n",
       "a       1.0            2.0   2.0   True\n",
       "b       2.0            4.0   8.0  False\n",
       "c       3.0            6.0  18.0  False\n",
       "d       4.0            NaN   NaN  False\n",
       "f       NaN           12.0   NaN  False"
      ]
     },
     "execution_count": 92,
     "metadata": {},
     "output_type": "execute_result"
    }
   ],
   "source": [
    "my_df['A'] = my_df['integers'] * my_df['even_integers']\n",
    "my_df['B'] = my_df['A'] <= my_df['even_integers']\n",
    "my_df"
   ]
  },
  {
   "cell_type": "markdown",
   "id": "9c1f6bcd",
   "metadata": {},
   "source": [
    "As far as subsetting (or filtering down) dataframes go, we have this helpful table:\n",
    "\n",
    "| Operation | Syntax | Result |\n",
    "| --------- | ------ | ------ |\n",
    "|Select column | df[col] | Series |\n",
    "|Select row by label | df.loc[label] | Series |\n",
    "|Select row by integer location | df.iloc[loc] | Series |\n",
    "|Slice rows | df[5:10] | DataFrame |\n",
    "|Select rows by boolean vector | df[bool_vec] | DataFrame |\n",
    "|Select by columns | df[[col1, ... , coln]] | DataFrame |\n"
   ]
  },
  {
   "cell_type": "code",
   "execution_count": 102,
   "id": "fe506822",
   "metadata": {},
   "outputs": [
    {
     "name": "stdout",
     "output_type": "stream",
     "text": [
      "a     True\n",
      "b     True\n",
      "c     True\n",
      "d    False\n",
      "f    False\n",
      "Name: A, dtype: bool\n",
      "   integers  even_integers     A      B\n",
      "a       1.0            2.0   2.0   True\n",
      "b       2.0            4.0   8.0  False\n",
      "c       3.0            6.0  18.0  False\n"
     ]
    }
   ],
   "source": [
    "# Suppose we only want rows where column 'A' is not NaN\n",
    "mask = ~my_df['A'].isna()\n",
    "print(mask)\n",
    "clean_df = my_df[mask]\n",
    "print(clean_df)"
   ]
  },
  {
   "cell_type": "code",
   "execution_count": 103,
   "id": "017b0442",
   "metadata": {},
   "outputs": [
    {
     "data": {
      "text/html": [
       "<div>\n",
       "<style scoped>\n",
       "    .dataframe tbody tr th:only-of-type {\n",
       "        vertical-align: middle;\n",
       "    }\n",
       "\n",
       "    .dataframe tbody tr th {\n",
       "        vertical-align: top;\n",
       "    }\n",
       "\n",
       "    .dataframe thead th {\n",
       "        text-align: right;\n",
       "    }\n",
       "</style>\n",
       "<table border=\"1\" class=\"dataframe\">\n",
       "  <thead>\n",
       "    <tr style=\"text-align: right;\">\n",
       "      <th></th>\n",
       "      <th>integers</th>\n",
       "      <th>A</th>\n",
       "    </tr>\n",
       "  </thead>\n",
       "  <tbody>\n",
       "    <tr>\n",
       "      <th>a</th>\n",
       "      <td>1.0</td>\n",
       "      <td>2.0</td>\n",
       "    </tr>\n",
       "    <tr>\n",
       "      <th>b</th>\n",
       "      <td>2.0</td>\n",
       "      <td>8.0</td>\n",
       "    </tr>\n",
       "    <tr>\n",
       "      <th>c</th>\n",
       "      <td>3.0</td>\n",
       "      <td>18.0</td>\n",
       "    </tr>\n",
       "    <tr>\n",
       "      <th>d</th>\n",
       "      <td>4.0</td>\n",
       "      <td>NaN</td>\n",
       "    </tr>\n",
       "    <tr>\n",
       "      <th>f</th>\n",
       "      <td>NaN</td>\n",
       "      <td>NaN</td>\n",
       "    </tr>\n",
       "  </tbody>\n",
       "</table>\n",
       "</div>"
      ],
      "text/plain": [
       "   integers     A\n",
       "a       1.0   2.0\n",
       "b       2.0   8.0\n",
       "c       3.0  18.0\n",
       "d       4.0   NaN\n",
       "f       NaN   NaN"
      ]
     },
     "execution_count": 103,
     "metadata": {},
     "output_type": "execute_result"
    }
   ],
   "source": [
    "# Suppose we only want columns 'integers' and 'A':\n",
    "my_df[['integers', 'A']]"
   ]
  },
  {
   "cell_type": "code",
   "execution_count": 104,
   "id": "1826c56e",
   "metadata": {},
   "outputs": [
    {
     "data": {
      "text/html": [
       "<div>\n",
       "<style scoped>\n",
       "    .dataframe tbody tr th:only-of-type {\n",
       "        vertical-align: middle;\n",
       "    }\n",
       "\n",
       "    .dataframe tbody tr th {\n",
       "        vertical-align: top;\n",
       "    }\n",
       "\n",
       "    .dataframe thead th {\n",
       "        text-align: right;\n",
       "    }\n",
       "</style>\n",
       "<table border=\"1\" class=\"dataframe\">\n",
       "  <thead>\n",
       "    <tr style=\"text-align: right;\">\n",
       "      <th></th>\n",
       "      <th>integers</th>\n",
       "      <th>even_integers</th>\n",
       "      <th>A</th>\n",
       "      <th>B</th>\n",
       "    </tr>\n",
       "  </thead>\n",
       "  <tbody>\n",
       "    <tr>\n",
       "      <th>a</th>\n",
       "      <td>1.0</td>\n",
       "      <td>2.0</td>\n",
       "      <td>2.0</td>\n",
       "      <td>True</td>\n",
       "    </tr>\n",
       "    <tr>\n",
       "      <th>b</th>\n",
       "      <td>2.0</td>\n",
       "      <td>4.0</td>\n",
       "      <td>8.0</td>\n",
       "      <td>False</td>\n",
       "    </tr>\n",
       "    <tr>\n",
       "      <th>c</th>\n",
       "      <td>3.0</td>\n",
       "      <td>6.0</td>\n",
       "      <td>18.0</td>\n",
       "      <td>False</td>\n",
       "    </tr>\n",
       "  </tbody>\n",
       "</table>\n",
       "</div>"
      ],
      "text/plain": [
       "   integers  even_integers     A      B\n",
       "a       1.0            2.0   2.0   True\n",
       "b       2.0            4.0   8.0  False\n",
       "c       3.0            6.0  18.0  False"
      ]
     },
     "execution_count": 104,
     "metadata": {},
     "output_type": "execute_result"
    }
   ],
   "source": [
    "# Suppose we only want the first 3 rows:\n",
    "my_df[:3]"
   ]
  },
  {
   "cell_type": "code",
   "execution_count": 108,
   "id": "bc1feb6e",
   "metadata": {},
   "outputs": [
    {
     "data": {
      "text/plain": [
       "integers           3.0\n",
       "even_integers      6.0\n",
       "A                 18.0\n",
       "B                False\n",
       "Name: c, dtype: object"
      ]
     },
     "execution_count": 108,
     "metadata": {},
     "output_type": "execute_result"
    }
   ],
   "source": [
    "# Suppose we want the row at index 2:\n",
    "# we could use the integer index\n",
    "my_df.iloc[2]"
   ]
  },
  {
   "cell_type": "code",
   "execution_count": 109,
   "id": "bf398c4a",
   "metadata": {},
   "outputs": [
    {
     "data": {
      "text/plain": [
       "integers           2.0\n",
       "even_integers      4.0\n",
       "A                  8.0\n",
       "B                False\n",
       "Name: b, dtype: object"
      ]
     },
     "execution_count": 109,
     "metadata": {},
     "output_type": "execute_result"
    }
   ],
   "source": [
    "# or the label\n",
    "my_df.loc['b']"
   ]
  },
  {
   "cell_type": "markdown",
   "id": "037cc6d1",
   "metadata": {},
   "source": [
    "## Exercises\n",
    "1. Create a pandas dataframe with four columns.\n",
    "    1. Column 'A' should contain the integers from 0 to 10.\n",
    "    2. Column 'B' should contain the values of 'A' but doubled.\n",
    "    3. Column 'C' should contain the values of 'A' but squared.\n",
    "    4. Column 'D' should contain the values of 'A' but exponentiated (with base e).\n",
    "2. Create a dataframe the `lecture_01_data.csv` file with the column names `['sepal_len', 'sepal_width', 'petal_len', 'petal_width', 'class']`.\n",
    "    1. Create a new column 'sepal_ratio' which is 'sepal_len' / 'sepal_width'.\n",
    "    2. Is 'sepal_ratio' ever NaN? If so, remove those rows.\n",
    "    3. Is 'petal_len' ever 0? If so, remove those rows.\n",
    "    4. Perform a log transform on 'petal_len' (create a new column with log base e of the petal_len column).\n",
    "    5. Create a new boolean column that is True when petal_len is 1.4 or more and false otherwise.\n",
    "3. For many modeling and analysis techniques, we need all feature values to be numeric. Starting with the dataframe created by exercise 2, do the following:\n",
    "    1. Change the boolean column into 1's and 0's.\n",
    "    2. One hot encode the 'class' column using pd.get_dummies() function.\n",
    "    3. What is get_dummies doing?"
   ]
  }
 ],
 "metadata": {
  "kernelspec": {
   "display_name": "Python 3 (ipykernel)",
   "language": "python",
   "name": "python3"
  },
  "language_info": {
   "codemirror_mode": {
    "name": "ipython",
    "version": 3
   },
   "file_extension": ".py",
   "mimetype": "text/x-python",
   "name": "python",
   "nbconvert_exporter": "python",
   "pygments_lexer": "ipython3",
   "version": "3.10.9"
  }
 },
 "nbformat": 4,
 "nbformat_minor": 5
}
