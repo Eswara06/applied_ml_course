{
 "cells": [
  {
   "cell_type": "markdown",
   "id": "5a6323d8",
   "metadata": {},
   "source": [
    "# Python Data Structures for Data Science: Numpy and Pandas\n",
    "\n",
    "In the last practical, we took a look at some basic concepts in python. We covered:\n",
    "1. Basic data types like numerics and strings.\n",
    "2. Compound data types like lists, tuples, and dictionaries.\n",
    "3. Control flow devices like if, else, for, and while.\n",
    "These concepts give us access to some powerful abilities, however most data scientists and analysts are not writing for loops over lists to understand their data. Instead, they are using even higher level objects to structure their data - namely numpy arrays and pandas dataframes. In this practical, we introduce these libraries and objects, giving a glimpse into how data analysis is actually done in practice.\n",
    "\n",
    "For this practical, we generally follow the standard tutorials for these libraries found here:\n",
    "- [Numpy](https://numpy.org/devdocs/user/quickstart.html)\n",
    "- [Pandas](https://pandas.pydata.org/docs/user_guide/index.html)\n",
    "\n",
    "When first encountering numpy arrays, it is natural to wonder why we even need them. After all, they look a lot like the ordinary lists we have already learned about. There are, as we will see, several advantages to their use. The first we will look at is speed. Let's do a small experiment of calculating the mean of one million numbers - first by iterating over a list and second by making use of a numpy array method."
   ]
  },
  {
   "cell_type": "code",
   "execution_count": 1,
   "id": "8430db5c",
   "metadata": {},
   "outputs": [],
   "source": [
    "import numpy as np\n",
    "import time"
   ]
  },
  {
   "cell_type": "code",
   "execution_count": 2,
   "id": "b7327f74",
   "metadata": {},
   "outputs": [],
   "source": [
    "heights = np.random.normal(size=1000000) #this is a numpy array\n",
    "heights_list = heights.tolist() #this is a list"
   ]
  },
  {
   "cell_type": "code",
   "execution_count": 3,
   "id": "26d6adfd",
   "metadata": {},
   "outputs": [
    {
     "name": "stdout",
     "output_type": "stream",
     "text": [
      "Mean:  0.0017307978739592488\n",
      "Elapsed time:  0.07947445799982233\n"
     ]
    }
   ],
   "source": [
    "start_time = time.perf_counter()\n",
    "sum_nums = 0\n",
    "for i in heights_list:\n",
    "    sum_nums = sum_nums + i\n",
    "print('Mean: ', sum_nums / len(heights_list))\n",
    "end_time = time.perf_counter()\n",
    "list_time = end_time - start_time\n",
    "print('Elapsed time: ', list_time)"
   ]
  },
  {
   "cell_type": "code",
   "execution_count": 4,
   "id": "857f9998",
   "metadata": {},
   "outputs": [
    {
     "name": "stdout",
     "output_type": "stream",
     "text": [
      "Mean:  0.001730797873959119\n",
      "Elapsed time:  0.0011659589999908349\n"
     ]
    }
   ],
   "source": [
    "start_time = time.perf_counter()\n",
    "print('Mean: ', heights.mean())\n",
    "end_time = time.perf_counter()\n",
    "numpy_time = end_time - start_time\n",
    "print('Elapsed time: ', numpy_time)"
   ]
  },
  {
   "cell_type": "code",
   "execution_count": 5,
   "id": "ee1e3ca7",
   "metadata": {},
   "outputs": [
    {
     "data": {
      "text/plain": [
       "0.014670864442931355"
      ]
     },
     "execution_count": 5,
     "metadata": {},
     "output_type": "execute_result"
    }
   ],
   "source": [
    " numpy_time / list_time"
   ]
  },
  {
   "cell_type": "markdown",
   "id": "9c4c3fe2",
   "metadata": {},
   "source": [
    "It seems there is in fact a big speed advantage in this case!\n",
    "\n",
    "Another advantage is the quantity of built-in methods. This allows us to transform our data quickly and with very few lines of code:"
   ]
  },
  {
   "cell_type": "code",
   "execution_count": 6,
   "id": "7477d98a",
   "metadata": {},
   "outputs": [],
   "source": [
    "test_np_array = np.array([1, 2, 3, 4, 5])"
   ]
  },
  {
   "cell_type": "code",
   "execution_count": 9,
   "id": "e1e24df6",
   "metadata": {},
   "outputs": [
    {
     "data": {
      "text/plain": [
       "array([0.        , 0.69314718, 1.09861229, 1.38629436, 1.60943791])"
      ]
     },
     "execution_count": 9,
     "metadata": {},
     "output_type": "execute_result"
    }
   ],
   "source": [
    "# log transform\n",
    "my_logs = np.log(test_np_array)\n",
    "my_logs"
   ]
  },
  {
   "cell_type": "code",
   "execution_count": 10,
   "id": "4ffc8151",
   "metadata": {},
   "outputs": [
    {
     "data": {
      "text/plain": [
       "array([1., 2., 3., 4., 5.])"
      ]
     },
     "execution_count": 10,
     "metadata": {},
     "output_type": "execute_result"
    }
   ],
   "source": [
    "# exponential tranform\n",
    "np.exp(my_logs)"
   ]
  },
  {
   "cell_type": "code",
   "execution_count": 13,
   "id": "76947085",
   "metadata": {},
   "outputs": [
    {
     "data": {
      "text/plain": [
       "array([1.        , 1.41421356, 1.73205081, 2.        , 2.23606798])"
      ]
     },
     "execution_count": 13,
     "metadata": {},
     "output_type": "execute_result"
    }
   ],
   "source": [
    "# square roots\n",
    "my_sqrts = np.sqrt(test_np_array)\n",
    "my_sqrts"
   ]
  },
  {
   "cell_type": "code",
   "execution_count": 14,
   "id": "36d7ba36",
   "metadata": {},
   "outputs": [
    {
     "data": {
      "text/plain": [
       "array([1., 2., 3., 4., 5.])"
      ]
     },
     "execution_count": 14,
     "metadata": {},
     "output_type": "execute_result"
    }
   ],
   "source": [
    "np.square(my_sqrts)"
   ]
  },
  {
   "cell_type": "code",
   "execution_count": 16,
   "id": "167bd06e",
   "metadata": {},
   "outputs": [
    {
     "data": {
      "text/plain": [
       "array([0.        , 0.98025814, 1.9028523 , 2.77258872, 3.59881258])"
      ]
     },
     "execution_count": 16,
     "metadata": {},
     "output_type": "execute_result"
    }
   ],
   "source": [
    "my_sqrts * my_logs"
   ]
  },
  {
   "cell_type": "markdown",
   "id": "d39c2a55",
   "metadata": {},
   "source": [
    "Yet another advantage is in providing a natural setting for us to do linear algebra - something lists do not provide. We now demonstrate this connection and introduce the numpy library and its core objects more systematically.\n",
    "\n",
    "The main object in numpy is the \"ndarray\" (n-dimensional array) or just \"array\". Let's see some examples:"
   ]
  },
  {
   "cell_type": "code",
   "execution_count": 19,
   "id": "fc3e152d",
   "metadata": {},
   "outputs": [
    {
     "name": "stdout",
     "output_type": "stream",
     "text": [
      "Vector sum:  [ 3  6  9 12]\n",
      "Element-wise product:  [ 2  8 18 32]\n",
      "Dot product:  60\n"
     ]
    }
   ],
   "source": [
    "# ndarrays can behave like vectors!\n",
    "\n",
    "vec_1 = np.array([1, 2, 3, 4])\n",
    "vec_2 = np.array([2, 4, 6, 8])\n",
    "\n",
    "print('Vector sum: ', vec_1 + vec_2)\n",
    "print('Element-wise product: ', vec_1 * vec_2)\n",
    "print('Dot product: ', np.dot(vec_1, vec_2))"
   ]
  },
  {
   "cell_type": "code",
   "execution_count": 23,
   "id": "b81fe581",
   "metadata": {},
   "outputs": [
    {
     "name": "stdout",
     "output_type": "stream",
     "text": [
      "[[1 2 3]\n",
      " [4 5 6]\n",
      " [7 8 9]]\n",
      "[[1 1]\n",
      " [2 2]\n",
      " [3 3]]\n",
      "[[ 2  4  6]\n",
      " [ 3  6  9]\n",
      " [ 4  8 12]]\n"
     ]
    }
   ],
   "source": [
    "# ndarrays van behave like matrices!\n",
    "mat_1 = np.array([[1, 2, 3], [4, 5, 6], [7, 8, 9]])\n",
    "mat_2 = np.array([[1, 1], [2, 2], [3, 3]])\n",
    "mat_3 = np.array([[2, 4, 6], [3, 6, 9], [4, 8, 12]])\n",
    "\n",
    "print(mat_1)\n",
    "print(mat_2)\n",
    "print(mat_3)"
   ]
  },
  {
   "cell_type": "code",
   "execution_count": 25,
   "id": "529ea732",
   "metadata": {},
   "outputs": [
    {
     "data": {
      "text/plain": [
       "array([[ 3,  6,  9],\n",
       "       [ 7, 11, 15],\n",
       "       [11, 16, 21]])"
      ]
     },
     "execution_count": 25,
     "metadata": {},
     "output_type": "execute_result"
    }
   ],
   "source": [
    "# Matrix sums\n",
    "mat_1 + mat_3"
   ]
  },
  {
   "cell_type": "code",
   "execution_count": 26,
   "id": "6514d854",
   "metadata": {},
   "outputs": [
    {
     "data": {
      "text/plain": [
       "array([[14, 14],\n",
       "       [32, 32],\n",
       "       [50, 50]])"
      ]
     },
     "execution_count": 26,
     "metadata": {},
     "output_type": "execute_result"
    }
   ],
   "source": [
    "# Matrix multiplication\n",
    "mat_1 @ mat_2"
   ]
  },
  {
   "cell_type": "code",
   "execution_count": 30,
   "id": "f8d735a2",
   "metadata": {},
   "outputs": [
    {
     "data": {
      "text/plain": [
       "[[[1, 2, 3], [4, 5, 6]], [[1, 1, 1], [2, 2, 2]]]"
      ]
     },
     "execution_count": 30,
     "metadata": {},
     "output_type": "execute_result"
    }
   ],
   "source": [
    "# ndarrays can be higher-order things (tensors)\n",
    "ten_1 = [[[1, 2, 3], [4, 5, 6]], [[1, 1, 1], [2, 2, 2]]]\n",
    "ten_1"
   ]
  },
  {
   "cell_type": "code",
   "execution_count": null,
   "id": "e4ab2713",
   "metadata": {},
   "outputs": [],
   "source": []
  }
 ],
 "metadata": {
  "kernelspec": {
   "display_name": "Python 3 (ipykernel)",
   "language": "python",
   "name": "python3"
  },
  "language_info": {
   "codemirror_mode": {
    "name": "ipython",
    "version": 3
   },
   "file_extension": ".py",
   "mimetype": "text/x-python",
   "name": "python",
   "nbconvert_exporter": "python",
   "pygments_lexer": "ipython3",
   "version": "3.10.9"
  }
 },
 "nbformat": 4,
 "nbformat_minor": 5
}
