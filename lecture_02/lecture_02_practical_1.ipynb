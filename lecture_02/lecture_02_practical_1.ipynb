{
 "cells": [
  {
   "cell_type": "markdown",
   "id": "3623437f",
   "metadata": {},
   "source": [
    "# Introduction to Python\n",
    "\n",
    "What is Python?\n",
    "\n",
    "Python is an object-oriented programming language. More than that, it is the standard language for the working data scientist and data analyst. In this notebook, we introduce the basics of the python programming language.\n",
    "\n",
    "Python code is typically written and executed in one of three ways:\n",
    "\n",
    "1. In \"interactive mode\", where you enter python code into a prompt, run it in the terminal, and repeat.\n",
    "2. In a file that is later executed by another process.\n",
    "3. In a notebook, which mirrors interactive mode, but with some additional functionality and flexibility.\n",
    "\n",
    "In this course, we will develop primarily in notebooks. This is because notebooks are generally easier to experiment with and show your work. Notebooks are not generally a great option for writing production code. For this, option (2) is much more standard.\n",
    "\n",
    "We now give an introduction to the python language, roughly using the [official python tutorial](https://docs.python.org/3/tutorial/introduction.html)."
   ]
  },
  {
   "cell_type": "markdown",
   "id": "538b457f",
   "metadata": {},
   "source": [
    "## Basic data types\n",
    "\n",
    "Let's start out by playing around with some basic data types like numbers, strings, and lists.\n",
    "\n",
    "Beginning with numbers, we can see that python can operate in a way that matches our intuition:"
   ]
  },
  {
   "cell_type": "code",
   "execution_count": 1,
   "id": "273d8e7f",
   "metadata": {},
   "outputs": [
    {
     "data": {
      "text/plain": [
       "24"
      ]
     },
     "execution_count": 1,
     "metadata": {},
     "output_type": "execute_result"
    }
   ],
   "source": [
    "1 + 23"
   ]
  },
  {
   "cell_type": "code",
   "execution_count": 2,
   "id": "1293bb07",
   "metadata": {},
   "outputs": [
    {
     "data": {
      "text/plain": [
       "-92"
      ]
     },
     "execution_count": 2,
     "metadata": {},
     "output_type": "execute_result"
    }
   ],
   "source": [
    "7 - 99"
   ]
  },
  {
   "cell_type": "code",
   "execution_count": 3,
   "id": "b197c3e6",
   "metadata": {},
   "outputs": [
    {
     "data": {
      "text/plain": [
       "12"
      ]
     },
     "execution_count": 3,
     "metadata": {},
     "output_type": "execute_result"
    }
   ],
   "source": [
    "3 * 4"
   ]
  },
  {
   "cell_type": "code",
   "execution_count": 4,
   "id": "9404c815",
   "metadata": {},
   "outputs": [
    {
     "data": {
      "text/plain": [
       "1.7142857142857142"
      ]
     },
     "execution_count": 4,
     "metadata": {},
     "output_type": "execute_result"
    }
   ],
   "source": [
    "12 / 7"
   ]
  },
  {
   "cell_type": "markdown",
   "id": "0f218601",
   "metadata": {},
   "source": [
    "There are also some fun operations with interesting notation"
   ]
  },
  {
   "cell_type": "code",
   "execution_count": 5,
   "id": "1da95f40",
   "metadata": {},
   "outputs": [
    {
     "data": {
      "text/plain": [
       "3"
      ]
     },
     "execution_count": 5,
     "metadata": {},
     "output_type": "execute_result"
    }
   ],
   "source": [
    "19 // 5 # floor division"
   ]
  },
  {
   "cell_type": "code",
   "execution_count": 6,
   "id": "da17d408",
   "metadata": {},
   "outputs": [
    {
     "data": {
      "text/plain": [
       "4"
      ]
     },
     "execution_count": 6,
     "metadata": {},
     "output_type": "execute_result"
    }
   ],
   "source": [
    "19 % 5 # modulus"
   ]
  },
  {
   "cell_type": "code",
   "execution_count": 7,
   "id": "2813ef33",
   "metadata": {},
   "outputs": [
    {
     "data": {
      "text/plain": [
       "32"
      ]
     },
     "execution_count": 7,
     "metadata": {},
     "output_type": "execute_result"
    }
   ],
   "source": [
    "2 ** 5 # exponentiation"
   ]
  },
  {
   "cell_type": "markdown",
   "id": "20e821ec",
   "metadata": {},
   "source": [
    "For more complicated mathematical operations, we can import the math library"
   ]
  },
  {
   "cell_type": "code",
   "execution_count": 8,
   "id": "344c36ae",
   "metadata": {},
   "outputs": [],
   "source": [
    "import math"
   ]
  },
  {
   "cell_type": "code",
   "execution_count": 9,
   "id": "275835d7",
   "metadata": {},
   "outputs": [
    {
     "data": {
      "text/plain": [
       "12"
      ]
     },
     "execution_count": 9,
     "metadata": {},
     "output_type": "execute_result"
    }
   ],
   "source": [
    "math.ceil(11.1)"
   ]
  },
  {
   "cell_type": "code",
   "execution_count": 10,
   "id": "0f49ace9",
   "metadata": {},
   "outputs": [
    {
     "data": {
      "text/plain": [
       "45"
      ]
     },
     "execution_count": 10,
     "metadata": {},
     "output_type": "execute_result"
    }
   ],
   "source": [
    "math.comb(10, 2)"
   ]
  },
  {
   "cell_type": "code",
   "execution_count": 11,
   "id": "bfd9cb8c",
   "metadata": {},
   "outputs": [
    {
     "data": {
      "text/plain": [
       "40320"
      ]
     },
     "execution_count": 11,
     "metadata": {},
     "output_type": "execute_result"
    }
   ],
   "source": [
    "math.factorial(8)"
   ]
  },
  {
   "cell_type": "code",
   "execution_count": 12,
   "id": "08acdac4",
   "metadata": {},
   "outputs": [
    {
     "data": {
      "text/plain": [
       "2.302585092994046"
      ]
     },
     "execution_count": 12,
     "metadata": {},
     "output_type": "execute_result"
    }
   ],
   "source": [
    "math.log(10)"
   ]
  },
  {
   "cell_type": "code",
   "execution_count": 13,
   "id": "5c07f157",
   "metadata": {},
   "outputs": [
    {
     "data": {
      "text/plain": [
       "6.6332495807108"
      ]
     },
     "execution_count": 13,
     "metadata": {},
     "output_type": "execute_result"
    }
   ],
   "source": [
    "math.sqrt(44)"
   ]
  },
  {
   "cell_type": "markdown",
   "id": "a6b161c2",
   "metadata": {},
   "source": [
    "Very often we want to assign a value (or other thing) to a variable so that we can reference it later. This is done with the equals sign."
   ]
  },
  {
   "cell_type": "code",
   "execution_count": 14,
   "id": "f838296f",
   "metadata": {},
   "outputs": [],
   "source": [
    "base = 4\n",
    "height = 7\n",
    "area = base * height"
   ]
  },
  {
   "cell_type": "code",
   "execution_count": 15,
   "id": "7edf8adc",
   "metadata": {},
   "outputs": [
    {
     "data": {
      "text/plain": [
       "28"
      ]
     },
     "execution_count": 15,
     "metadata": {},
     "output_type": "execute_result"
    }
   ],
   "source": [
    "area"
   ]
  },
  {
   "cell_type": "markdown",
   "id": "cce8eafc",
   "metadata": {},
   "source": [
    "Now that we have seen numbers in action, let's turn our attention to strings. We can use single quotes ' or double quotes to enclose strings:"
   ]
  },
  {
   "cell_type": "code",
   "execution_count": 16,
   "id": "cd80922b",
   "metadata": {},
   "outputs": [
    {
     "data": {
      "text/plain": [
       "'Bobs oreos are over there.'"
      ]
     },
     "execution_count": 16,
     "metadata": {},
     "output_type": "execute_result"
    }
   ],
   "source": [
    "'Bobs oreos are over there.'"
   ]
  },
  {
   "cell_type": "markdown",
   "id": "c60695db",
   "metadata": {},
   "source": [
    "There are lots of fiddley things with strings that you will come across:"
   ]
  },
  {
   "cell_type": "code",
   "execution_count": 17,
   "id": "bc46831d",
   "metadata": {},
   "outputs": [
    {
     "ename": "SyntaxError",
     "evalue": "unterminated string literal (detected at line 1) (1552384326.py, line 1)",
     "output_type": "error",
     "traceback": [
      "\u001b[0;36m  Cell \u001b[0;32mIn[17], line 1\u001b[0;36m\u001b[0m\n\u001b[0;31m    'Bob's oreos are over there.'\u001b[0m\n\u001b[0m                                ^\u001b[0m\n\u001b[0;31mSyntaxError\u001b[0m\u001b[0;31m:\u001b[0m unterminated string literal (detected at line 1)\n"
     ]
    }
   ],
   "source": [
    "'Bob's oreos are over there.'"
   ]
  },
  {
   "cell_type": "code",
   "execution_count": 18,
   "id": "686caa3e",
   "metadata": {},
   "outputs": [
    {
     "data": {
      "text/plain": [
       "\"Bob's oreos are delicious.\""
      ]
     },
     "execution_count": 18,
     "metadata": {},
     "output_type": "execute_result"
    }
   ],
   "source": [
    "# The above is bad . . . can you see why?\n",
    "# The below works though:\n",
    "\"Bob's oreos are delicious.\"\n",
    "# So does\n",
    "'Bob\\'s oreos are delicious.'"
   ]
  },
  {
   "cell_type": "markdown",
   "id": "dedc3841",
   "metadata": {},
   "source": [
    "Just like numbers, there are many fun things to do with strings:"
   ]
  },
  {
   "cell_type": "code",
   "execution_count": 19,
   "id": "2f284135",
   "metadata": {},
   "outputs": [
    {
     "data": {
      "text/plain": [
       "'Sara loves the guitar.'"
      ]
     },
     "execution_count": 19,
     "metadata": {},
     "output_type": "execute_result"
    }
   ],
   "source": [
    "# concatenate them:\n",
    "'Sara loves ' + 'the guitar.'"
   ]
  },
  {
   "cell_type": "code",
   "execution_count": 20,
   "id": "19fab9bf",
   "metadata": {},
   "outputs": [
    {
     "data": {
      "text/plain": [
       "'C'"
      ]
     },
     "execution_count": 20,
     "metadata": {},
     "output_type": "execute_result"
    }
   ],
   "source": [
    "# accessing strings by index (which starts at 0!)\n",
    "foo = 'Coffee is the best drink.'\n",
    "foo[0]"
   ]
  },
  {
   "cell_type": "code",
   "execution_count": 21,
   "id": "be2f2a23",
   "metadata": {},
   "outputs": [
    {
     "data": {
      "text/plain": [
       "'.'"
      ]
     },
     "execution_count": 21,
     "metadata": {},
     "output_type": "execute_result"
    }
   ],
   "source": [
    "foo[-1]"
   ]
  },
  {
   "cell_type": "code",
   "execution_count": 22,
   "id": "7e38af28",
   "metadata": {},
   "outputs": [
    {
     "data": {
      "text/plain": [
       "'Coffee'"
      ]
     },
     "execution_count": 22,
     "metadata": {},
     "output_type": "execute_result"
    }
   ],
   "source": [
    "foo[0:6]"
   ]
  },
  {
   "cell_type": "code",
   "execution_count": 23,
   "id": "7c27fcc6",
   "metadata": {},
   "outputs": [
    {
     "data": {
      "text/plain": [
       "'Coffee best'"
      ]
     },
     "execution_count": 23,
     "metadata": {},
     "output_type": "execute_result"
    }
   ],
   "source": [
    "foo[:6] + foo[13:18]"
   ]
  },
  {
   "cell_type": "markdown",
   "id": "d1e4aeb6",
   "metadata": {},
   "source": [
    "Strings are \"immutable\", which means you can't change them like you might hope:"
   ]
  },
  {
   "cell_type": "code",
   "execution_count": 24,
   "id": "32160d48",
   "metadata": {},
   "outputs": [
    {
     "ename": "TypeError",
     "evalue": "'str' object does not support item assignment",
     "output_type": "error",
     "traceback": [
      "\u001b[0;31m---------------------------------------------------------------------------\u001b[0m",
      "\u001b[0;31mTypeError\u001b[0m                                 Traceback (most recent call last)",
      "Cell \u001b[0;32mIn[24], line 1\u001b[0m\n\u001b[0;32m----> 1\u001b[0m \u001b[43mfoo\u001b[49m\u001b[43m[\u001b[49m\u001b[38;5;241;43m0\u001b[39;49m\u001b[43m]\u001b[49m \u001b[38;5;241m=\u001b[39m \u001b[38;5;124m'\u001b[39m\u001b[38;5;124mT\u001b[39m\u001b[38;5;124m'\u001b[39m\n",
      "\u001b[0;31mTypeError\u001b[0m: 'str' object does not support item assignment"
     ]
    }
   ],
   "source": [
    "foo[0] = 'T'"
   ]
  },
  {
   "cell_type": "markdown",
   "id": "578e32d7",
   "metadata": {},
   "source": [
    "You can get the length of a string with the 'len' function."
   ]
  },
  {
   "cell_type": "code",
   "execution_count": 25,
   "id": "dfac6e83",
   "metadata": {},
   "outputs": [
    {
     "data": {
      "text/plain": [
       "25"
      ]
     },
     "execution_count": 25,
     "metadata": {},
     "output_type": "execute_result"
    }
   ],
   "source": [
    "len(foo)"
   ]
  },
  {
   "cell_type": "markdown",
   "id": "e0365ad8",
   "metadata": {},
   "source": [
    "Now that we have some examples, we might want some compound data types that hold collections of these things. Let's talk about lists first:"
   ]
  },
  {
   "cell_type": "code",
   "execution_count": 26,
   "id": "9a0b8e27",
   "metadata": {},
   "outputs": [],
   "source": [
    "my_list = [1, 1, 2, 3, 5, 8]"
   ]
  },
  {
   "cell_type": "markdown",
   "id": "2d008f5c",
   "metadata": {},
   "source": [
    "The same indexing tricks we learned with strings also work with lists too:"
   ]
  },
  {
   "cell_type": "code",
   "execution_count": 27,
   "id": "6fccb064",
   "metadata": {},
   "outputs": [
    {
     "data": {
      "text/plain": [
       "[1, 1, 2]"
      ]
     },
     "execution_count": 27,
     "metadata": {},
     "output_type": "execute_result"
    }
   ],
   "source": [
    "my_list[0:3]"
   ]
  },
  {
   "cell_type": "markdown",
   "id": "c787a975",
   "metadata": {},
   "source": [
    "Concatenation works the same way too!"
   ]
  },
  {
   "cell_type": "code",
   "execution_count": 28,
   "id": "ca195cc4",
   "metadata": {},
   "outputs": [
    {
     "data": {
      "text/plain": [
       "[1, 1, 2, 3, 5, 8, 13, 21, 34]"
      ]
     },
     "execution_count": 28,
     "metadata": {},
     "output_type": "execute_result"
    }
   ],
   "source": [
    "my_list + [13, 21, 34]"
   ]
  },
  {
   "cell_type": "markdown",
   "id": "4065af90",
   "metadata": {},
   "source": [
    "One difference though is that lists are mutable (you can edit them!)"
   ]
  },
  {
   "cell_type": "code",
   "execution_count": 29,
   "id": "a45e2dd5",
   "metadata": {},
   "outputs": [
    {
     "data": {
      "text/plain": [
       "[1, 1, 999, 3, 5, 8]"
      ]
     },
     "execution_count": 29,
     "metadata": {},
     "output_type": "execute_result"
    }
   ],
   "source": [
    "my_list[2] = 999\n",
    "my_list"
   ]
  },
  {
   "cell_type": "markdown",
   "id": "84635d8d",
   "metadata": {},
   "source": [
    "We can actually be pretty flexible with what list elements look like too"
   ]
  },
  {
   "cell_type": "code",
   "execution_count": 30,
   "id": "565f3976",
   "metadata": {},
   "outputs": [
    {
     "data": {
      "text/plain": [
       "[[1, 2], 'banana', -7, ['a', 'b', 'c']]"
      ]
     },
     "execution_count": 30,
     "metadata": {},
     "output_type": "execute_result"
    }
   ],
   "source": [
    "this_is_fine = [[1, 2], 'banana', -7, ['a', 'b', 'c']]\n",
    "this_is_fine"
   ]
  },
  {
   "cell_type": "markdown",
   "id": "ca6ff16a",
   "metadata": {},
   "source": [
    "Here are some other compound data types:"
   ]
  },
  {
   "cell_type": "code",
   "execution_count": 31,
   "id": "d4d695fb",
   "metadata": {},
   "outputs": [
    {
     "data": {
      "text/plain": [
       "(1, 1, 2, 3, 5)"
      ]
     },
     "execution_count": 31,
     "metadata": {},
     "output_type": "execute_result"
    }
   ],
   "source": [
    "# tuples are a lot like lists but are immutable\n",
    "my_tuple = (1, 1, 2, 3, 5)\n",
    "my_tuple"
   ]
  },
  {
   "cell_type": "code",
   "execution_count": 32,
   "id": "9d9f941e",
   "metadata": {},
   "outputs": [
    {
     "ename": "TypeError",
     "evalue": "'tuple' object does not support item assignment",
     "output_type": "error",
     "traceback": [
      "\u001b[0;31m---------------------------------------------------------------------------\u001b[0m",
      "\u001b[0;31mTypeError\u001b[0m                                 Traceback (most recent call last)",
      "Cell \u001b[0;32mIn[32], line 1\u001b[0m\n\u001b[0;32m----> 1\u001b[0m \u001b[43mmy_tuple\u001b[49m\u001b[43m[\u001b[49m\u001b[38;5;241;43m3\u001b[39;49m\u001b[43m]\u001b[49m \u001b[38;5;241m=\u001b[39m \u001b[38;5;241m100\u001b[39m\n",
      "\u001b[0;31mTypeError\u001b[0m: 'tuple' object does not support item assignment"
     ]
    }
   ],
   "source": [
    "my_tuple[3] = 100"
   ]
  },
  {
   "cell_type": "code",
   "execution_count": 33,
   "id": "1af027bf",
   "metadata": {},
   "outputs": [
    {
     "data": {
      "text/plain": [
       "{1, 2, 3, 5}"
      ]
     },
     "execution_count": 33,
     "metadata": {},
     "output_type": "execute_result"
    }
   ],
   "source": [
    "# sets are unordered and do not capture multiplicity (just like mathematical sets!)\n",
    "my_set = {1, 1, 2, 3, 5}\n",
    "my_set"
   ]
  },
  {
   "cell_type": "code",
   "execution_count": 34,
   "id": "88c13e98",
   "metadata": {},
   "outputs": [
    {
     "data": {
      "text/plain": [
       "4"
      ]
     },
     "execution_count": 34,
     "metadata": {},
     "output_type": "execute_result"
    }
   ],
   "source": [
    "# dictionaries are sets of key-value pairs, where the keys have to be immutable types:\n",
    "inventory = {'bananas': 11, 'oreos': 300, 'cucumbers': 4}\n",
    "# you can access the value with a key like this:\n",
    "inventory['cucumbers']"
   ]
  },
  {
   "cell_type": "markdown",
   "id": "15c422ea",
   "metadata": {},
   "source": [
    "Let's move on to some standard programming control flows."
   ]
  },
  {
   "cell_type": "markdown",
   "id": "da14b4be",
   "metadata": {},
   "source": [
    "## Control Flows - if, else, for, while, and all that"
   ]
  },
  {
   "cell_type": "markdown",
   "id": "a03da0a5",
   "metadata": {},
   "source": [
    "Very often in programming, we want to do something in one case, but something else in other cases. This can be accomplished like this:"
   ]
  },
  {
   "cell_type": "code",
   "execution_count": 35,
   "id": "219709f2",
   "metadata": {},
   "outputs": [
    {
     "name": "stdout",
     "output_type": "stream",
     "text": [
      "Feel free to eat as is!\n"
     ]
    }
   ],
   "source": [
    "food = 'cucumber'\n",
    "\n",
    "if food == 'banana':\n",
    "    print('Peel before eating!')\n",
    "else:\n",
    "    print('Feel free to eat as is!')"
   ]
  },
  {
   "cell_type": "markdown",
   "id": "47be7796",
   "metadata": {},
   "source": [
    "If there are many cases, it can be handled like this:"
   ]
  },
  {
   "cell_type": "code",
   "execution_count": 36,
   "id": "130a0068",
   "metadata": {},
   "outputs": [
    {
     "name": "stdout",
     "output_type": "stream",
     "text": [
      "Can be eaten peeled or unpeeled.\n"
     ]
    }
   ],
   "source": [
    "if food == 'banana':\n",
    "    print('Peel before eating!')\n",
    "elif food == 'cucumber':\n",
    "    print('Can be eaten peeled or unpeeled.')\n",
    "elif food == 'oreo':\n",
    "    print('Do not attempt to peel.')\n",
    "else:\n",
    "    print(\"I'm not really sure, do what you want.\")"
   ]
  },
  {
   "cell_type": "markdown",
   "id": "e75b2e74",
   "metadata": {},
   "source": [
    "Wow, the above snippet of code is maybe useful. In particular, it takes an input and does things . . . like a function. We can encode it as a function as follows:"
   ]
  },
  {
   "cell_type": "code",
   "execution_count": 37,
   "id": "357b8249",
   "metadata": {},
   "outputs": [],
   "source": [
    "def food_prep_advice(food):\n",
    "    if food == 'banana':\n",
    "        print('Peel before eating!')\n",
    "    elif food == 'cucumber':\n",
    "        print('Can be eaten peeled or unpeeled.')\n",
    "    elif food == 'oreo':\n",
    "        print('Do not attempt to peel.')\n",
    "    else:\n",
    "        print(\"I'm not really sure, do what you want.\")"
   ]
  },
  {
   "cell_type": "markdown",
   "id": "fa671149",
   "metadata": {},
   "source": [
    "We can then call the function as follows:"
   ]
  },
  {
   "cell_type": "code",
   "execution_count": 38,
   "id": "41acc322",
   "metadata": {},
   "outputs": [
    {
     "name": "stdout",
     "output_type": "stream",
     "text": [
      "Peel before eating!\n",
      "Can be eaten peeled or unpeeled.\n",
      "Do not attempt to peel.\n",
      "I'm not really sure, do what you want.\n"
     ]
    }
   ],
   "source": [
    "food_prep_advice('banana')\n",
    "food_prep_advice('cucumber')\n",
    "food_prep_advice('oreo')\n",
    "food_prep_advice('hericot verts')"
   ]
  },
  {
   "cell_type": "markdown",
   "id": "c663bca2",
   "metadata": {},
   "source": [
    "Very often you want your function to spit something back (instead of just taking an action like printing food preparation instructions. This can be done with the return keyword. Let's write a function that takes a number, squares it, adds 6, and then divides by 2, returning the result:"
   ]
  },
  {
   "cell_type": "code",
   "execution_count": 39,
   "id": "7717cac7",
   "metadata": {},
   "outputs": [],
   "source": [
    "def weird_math_function(x):\n",
    "    result = ((x ** 2) + 6) / 2\n",
    "    return result"
   ]
  },
  {
   "cell_type": "code",
   "execution_count": 40,
   "id": "dcaf5e64",
   "metadata": {},
   "outputs": [
    {
     "data": {
      "text/plain": [
       "53.0"
      ]
     },
     "execution_count": 40,
     "metadata": {},
     "output_type": "execute_result"
    }
   ],
   "source": [
    "weird_math_function(10)"
   ]
  },
  {
   "cell_type": "markdown",
   "id": "a5aeaf6f",
   "metadata": {},
   "source": [
    "Okay - we can write functions now - hooray! What if we want to call this function (or really do anything) many different times on different inputs (or generally under different conditions)? Let's talk about loops - in particular, let's talk about the \"for\" loop and \"while\" loop."
   ]
  },
  {
   "cell_type": "code",
   "execution_count": 41,
   "id": "3b42e3ce",
   "metadata": {},
   "outputs": [
    {
     "name": "stdout",
     "output_type": "stream",
     "text": [
      "When it comes to the oreo I always say:\n",
      "Do not attempt to peel.\n",
      "\n",
      "\n",
      "When it comes to the cucumber I always say:\n",
      "Can be eaten peeled or unpeeled.\n",
      "\n",
      "\n",
      "When it comes to the carrot I always say:\n",
      "I'm not really sure, do what you want.\n",
      "\n",
      "\n",
      "When it comes to the banana I always say:\n",
      "Peel before eating!\n",
      "\n",
      "\n",
      "When it comes to the bagel I always say:\n",
      "I'm not really sure, do what you want.\n",
      "\n",
      "\n"
     ]
    }
   ],
   "source": [
    "# for loops do something for every item in an iterable object (like a list)\n",
    "foods = ['oreo', 'cucumber', 'carrot', 'banana', 'bagel']\n",
    "for food in foods:\n",
    "    print(\"When it comes to the\", food, \"I always say:\")\n",
    "    food_prep_advice(food)\n",
    "    print(\"\\n\")"
   ]
  },
  {
   "cell_type": "markdown",
   "id": "97035720",
   "metadata": {},
   "source": [
    "Very often, we would like write a for loop over a sequence of numbers, the range function can be useful for this:"
   ]
  },
  {
   "cell_type": "code",
   "execution_count": 42,
   "id": "75317673",
   "metadata": {},
   "outputs": [
    {
     "name": "stdout",
     "output_type": "stream",
     "text": [
      "Input:  0\n",
      "Output:  3.0\n",
      "Input:  1\n",
      "Output:  3.5\n",
      "Input:  2\n",
      "Output:  5.0\n",
      "Input:  3\n",
      "Output:  7.5\n",
      "Input:  4\n",
      "Output:  11.0\n",
      "Input:  5\n",
      "Output:  15.5\n",
      "Input:  6\n",
      "Output:  21.0\n",
      "Input:  7\n",
      "Output:  27.5\n",
      "Input:  8\n",
      "Output:  35.0\n",
      "Input:  9\n",
      "Output:  43.5\n"
     ]
    }
   ],
   "source": [
    "for i in range(10):\n",
    "    print('Input: ', i)\n",
    "    print('Output: ', weird_math_function(i))"
   ]
  },
  {
   "cell_type": "markdown",
   "id": "d2efb738",
   "metadata": {},
   "source": [
    "Notice that range(10) includes 0 but not 10. It does accept additional arguments for more flexible behavior."
   ]
  },
  {
   "cell_type": "code",
   "execution_count": 43,
   "id": "dfaaa04c",
   "metadata": {},
   "outputs": [
    {
     "name": "stdout",
     "output_type": "stream",
     "text": [
      "Input:  0\n",
      "Output:  3.0\n",
      "Input:  1\n",
      "Output:  3.5\n",
      "Input:  2\n",
      "Output:  5.0\n",
      "Input:  3\n",
      "Output:  7.5\n",
      "Input:  4\n",
      "Output:  11.0\n",
      "Input:  5\n",
      "Output:  15.5\n",
      "Input:  6\n",
      "Output:  21.0\n",
      "Input:  7\n",
      "Output:  27.5\n",
      "Input:  8\n",
      "Output:  35.0\n",
      "Input:  9\n",
      "Output:  43.5\n"
     ]
    }
   ],
   "source": [
    "# while loops execute the code while the statement following the while keyword is true.\n",
    "# Be careful! While loops can lead to infinite loops if you're not careful.\n",
    "i = 0\n",
    "while i < 10:\n",
    "    print('Input: ', i)\n",
    "    print('Output: ', weird_math_function(i))\n",
    "    i = i + 1 #this will be an infinite loop without this line!"
   ]
  },
  {
   "cell_type": "markdown",
   "id": "16a36dde",
   "metadata": {},
   "source": [
    "## Exercises\n",
    "\n",
    "1. Find the documentation for the math library.\n",
    "    1. Try out three new mathematical functions implemented in this library.\n",
    "    2. Why didn't you have to install this library before importing it?\n",
    "    3. Make a list if cos(x) for the first 20 non-negative integers. (0, 1, . . . , 19)\n",
    "2. Calculate the mean of these numbers using a for loop: [1, 3, 5, 7, 9]. Is there an easier way you can find?\n",
    "3. How many times does the word \"the\" appear in the excerpt below? (try to do using what we've learned so far, and then try to find an easy \"one line\" solution with string method we haven't seen yet.\n",
    "\n",
    ">Call me Ishmael.  Some years ago--never mind how long\n",
    "precisely--having little or no money in my purse, and nothing\n",
    "particular to interest me on shore, I thought I would sail about a\n",
    "little and see the watery part of the world.  It is a way I have of\n",
    "driving off the spleen and regulating the circulation.  Whenever I\n",
    "find myself growing grim about the mouth; whenever it is a damp,\n",
    "drizzly November in my soul; whenever I find myself involuntarily\n",
    "pausing before coffin warehouses, and bringing up the rear of every\n",
    "funeral I meet; and especially whenever my hypos get such an upper\n",
    "hand of me, that it requires a strong moral principle to prevent me\n",
    "from deliberately stepping into the street, and methodically knocking\n",
    "people's hats off--then, I account it high time to get to sea as soon\n",
    "as I can.  This is my substitute for pistol and ball.  With a\n",
    "philosophical flourish Cato throws himself upon his sword; I quietly\n",
    "take to the ship.  There is nothing surprising in this.  If they but\n",
    "knew it, almost all men in their degree, some time or other, cherish\n",
    "very nearly the same feelings towards the ocean with me.\n",
    ">\n",
    ">There now is your insular city of the Manhattoes, belted round by\n",
    "wharves as Indian isles by coral reefs--commerce surrounds it with\n",
    "her surf.  Right and left, the streets take you waterward.  Its\n",
    "extreme downtown is the battery, where that noble mole is washed by\n",
    "waves, and cooled by breezes, which a few hours previous were out of\n",
    "sight of land.  Look at the crowds of water-gazers there.\n",
    ">\n",
    ">Circumambulate the city of a dreamy Sabbath afternoon.  Go from\n",
    "Corlears Hook to Coenties Slip, and from thence, by Whitehall,\n",
    "northward.  What do you see?--Posted like silent sentinels all around\n",
    "the town, stand thousands upon thousands of mortal men fixed in ocean\n",
    "reveries.  Some leaning against the spiles; some seated upon the\n",
    "pier-heads; some looking over the bulwarks of ships from China; some\n",
    "high aloft in the rigging, as if striving to get a still better\n",
    "seaward peep.  But these are all landsmen; of week days pent up in\n",
    "lath and plaster--tied to counters, nailed to benches, clinched to\n",
    "desks.  How then is this?  Are the green fields gone?  What do they\n",
    "here?\n",
    ">\n",
    ">But look! here come more crowds, pacing straight for the water, and\n",
    "seemingly bound for a dive.  Strange!  Nothing will content them but\n",
    "the extremest limit of the land; loitering under the shady lee of\n",
    "yonder warehouses will not suffice.  No.  They must get just as nigh\n",
    "the water as they possibly can without falling in.  And there they\n",
    "stand--miles of them--leagues.  Inlanders all, they come from lanes\n",
    "and alleys, streets and avenues--north, east, south, and west.  Yet\n",
    "here they all unite.  Tell me, does the magnetic virtue of the\n",
    "needles of the compasses of all those ships attract them thither?\n",
    "\n",
    "4. Create a list with the first 100 Fibonacci numbers. The Fibonacci sequence starts 1, 1, and then the $n$th number in the sequence is the sum of the previous two (1, 1, 2, 3, . . . ).\n",
    "5. Write a function that takes a positive integer and returns True if the integer is prime and False otherwise. (Don't return the string 'True' or 'False' - return the special keyword True or False!)\n",
    "6. Create a list with the first 100 prime numbers."
   ]
  },
  {
   "cell_type": "code",
   "execution_count": null,
   "id": "f5d53271",
   "metadata": {},
   "outputs": [],
   "source": []
  }
 ],
 "metadata": {
  "kernelspec": {
   "display_name": "Python 3 (ipykernel)",
   "language": "python",
   "name": "python3"
  },
  "language_info": {
   "codemirror_mode": {
    "name": "ipython",
    "version": 3
   },
   "file_extension": ".py",
   "mimetype": "text/x-python",
   "name": "python",
   "nbconvert_exporter": "python",
   "pygments_lexer": "ipython3",
   "version": "3.10.9"
  }
 },
 "nbformat": 4,
 "nbformat_minor": 5
}
