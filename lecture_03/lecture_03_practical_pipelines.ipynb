{
 "cells": [
  {
   "cell_type": "code",
   "execution_count": 1,
   "id": "529239e1",
   "metadata": {},
   "outputs": [],
   "source": [
    "import pandas as pd\n",
    "from sklearn.model_selection import train_test_split\n",
    "\n",
    "from sklearn.preprocessing import OneHotEncoder\n",
    "from sklearn.impute import SimpleImputer\n",
    "from sklearn.compose import ColumnTransformer\n",
    "from sklearn.pipeline import Pipeline\n",
    "\n",
    "from sklearn.linear_model import LogisticRegression\n",
    "from sklearn.ensemble import GradientBoostingClassifier, RandomForestClassifier\n",
    "from sklearn.metrics import roc_auc_score, confusion_matrix, RocCurveDisplay\n",
    "import matplotlib.pyplot as plt"
   ]
  },
  {
   "cell_type": "code",
   "execution_count": 2,
   "id": "435c2dcc",
   "metadata": {},
   "outputs": [],
   "source": [
    "pd.set_option('display.max_rows', 500)"
   ]
  },
  {
   "cell_type": "code",
   "execution_count": 3,
   "id": "11d1000e",
   "metadata": {},
   "outputs": [],
   "source": [
    "df = pd.read_csv('lecture_03_data.csv',\n",
    "                names = ['age',\n",
    "                         'workclass',\n",
    "                         'fnlwgt',\n",
    "                         'education',\n",
    "                         'education-num',\n",
    "                         'marital-status',\n",
    "                         'occupation',\n",
    "                         'relationship',\n",
    "                         'race',\n",
    "                         'sex',\n",
    "                         'capital-gain',\n",
    "                         'capital-loss',\n",
    "                         'hours-per-week',\n",
    "                         'native-country',\n",
    "                         'income'])"
   ]
  },
  {
   "cell_type": "code",
   "execution_count": 4,
   "id": "2f4c1c8f",
   "metadata": {},
   "outputs": [],
   "source": [
    "num_vars = ['age', 'fnlwgt', 'education-num', 'capital-gain', 'capital-loss', 'hours-per-week']\n",
    "cat_vars = ['workclass', 'education', 'marital-status', 'occupation', 'relationship', 'race', 'sex', 'native-country']\n",
    "target = 'income'"
   ]
  },
  {
   "cell_type": "code",
   "execution_count": 5,
   "id": "983f5fb8",
   "metadata": {},
   "outputs": [],
   "source": [
    "X = df[num_vars + cat_vars]\n",
    "y = df[target].replace({' <=50K': 0, ' >50K': 1})\n",
    "X_train, X_test, y_train, y_test = train_test_split(X, y, test_size=0.2, random_state=4)"
   ]
  },
  {
   "cell_type": "code",
   "execution_count": 6,
   "id": "15a3b664",
   "metadata": {},
   "outputs": [],
   "source": [
    "numeric_tx = Pipeline(steps=[\n",
    "    ('imputer', SimpleImputer(strategy='median')),\n",
    "])\n",
    "cat_tx = Pipeline(steps=[\n",
    "    ('imputer', SimpleImputer(strategy='most_frequent')),\n",
    "    ('encoder', OneHotEncoder(handle_unknown='ignore'))\n",
    "])"
   ]
  },
  {
   "cell_type": "code",
   "execution_count": 7,
   "id": "72d37980",
   "metadata": {},
   "outputs": [],
   "source": [
    "preprocessor = ColumnTransformer(transformers=[\n",
    "    ('numeric', numeric_tx, num_vars),\n",
    "    ('categorical', cat_tx, cat_vars)\n",
    "])"
   ]
  },
  {
   "cell_type": "code",
   "execution_count": 8,
   "id": "f5f52ebf",
   "metadata": {},
   "outputs": [],
   "source": [
    "classifier_list = [LogisticRegression(random_state=4),\n",
    "                   RandomForestClassifier(),\n",
    "                   GradientBoostingClassifier(n_estimators=1000),]"
   ]
  },
  {
   "cell_type": "code",
   "execution_count": 9,
   "id": "cdcb8d40",
   "metadata": {},
   "outputs": [
    {
     "name": "stdout",
     "output_type": "stream",
     "text": [
      "0.5688060797833213\n",
      "0.895695061716149\n",
      "0.9217372640452988\n"
     ]
    }
   ],
   "source": [
    "for clf in classifier_list:\n",
    "    pipeline = Pipeline(steps=[('preprocessor', preprocessor), ('classifier', clf)])\n",
    "    model_pipeline = pipeline.fit(X_train, y_train)\n",
    "    preds = model_pipeline.predict_proba(X_test)\n",
    "    print(roc_auc_score(y_test, preds[:,1]))"
   ]
  },
  {
   "cell_type": "code",
   "execution_count": null,
   "id": "588d2119",
   "metadata": {},
   "outputs": [],
   "source": []
  }
 ],
 "metadata": {
  "kernelspec": {
   "display_name": "Python 3 (ipykernel)",
   "language": "python",
   "name": "python3"
  },
  "language_info": {
   "codemirror_mode": {
    "name": "ipython",
    "version": 3
   },
   "file_extension": ".py",
   "mimetype": "text/x-python",
   "name": "python",
   "nbconvert_exporter": "python",
   "pygments_lexer": "ipython3",
   "version": "3.10.9"
  }
 },
 "nbformat": 4,
 "nbformat_minor": 5
}
